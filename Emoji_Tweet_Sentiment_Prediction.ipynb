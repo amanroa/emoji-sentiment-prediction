{
 "cells": [
  {
   "cell_type": "markdown",
   "id": "9347912f-5770-453f-9bad-19d9aa2b560c",
   "metadata": {},
   "source": [
    "# Predicting Tweet Sentiment With Emojis\n",
    "### Aashni Manroa\n",
    "In my project, I will be using a dataset from Kaggle titled \"Tweets With Emoji\" to test if adding emojis to a Naive Bayes prediction model will improve the sentiment analysis for the tweets."
   ]
  },
  {
   "cell_type": "markdown",
   "id": "e4a2ed96-e270-4ce2-811b-f8479ff9571a",
   "metadata": {},
   "source": [
    "Link to dataset: https://www.kaggle.com/datasets/ericwang1011/tweets-with-emoji?select=saluting_face.csv"
   ]
  },
  {
   "cell_type": "code",
   "execution_count": 1,
   "id": "9461b4f1-a99a-4cc5-a999-49922b792ce7",
   "metadata": {},
   "outputs": [],
   "source": [
    "import pandas as pd\n",
    "import numpy as np"
   ]
  },
  {
   "cell_type": "code",
   "execution_count": 2,
   "id": "a265930c-7cce-479a-a944-aa10eaa10ec0",
   "metadata": {},
   "outputs": [],
   "source": [
    "from sklearn.model_selection import train_test_split"
   ]
  },
  {
   "cell_type": "markdown",
   "id": "dda230fa-226d-4250-9505-5421ef0f2cb3",
   "metadata": {},
   "source": [
    "## Preprocessing Emoji Data"
   ]
  },
  {
   "cell_type": "markdown",
   "id": "63d90e39-1a21-4767-a2b9-152e9186bf8c",
   "metadata": {},
   "source": [
    "I used this preprocessing to create a labeled.csv file that contained small but equal amounts of tweets containing each emoji. I then downloaded this csv and manually labeled the sentiments of each one. "
   ]
  },
  {
   "cell_type": "code",
   "execution_count": 3,
   "id": "0cc2d13c-5ef7-4414-a95c-f7258c2a2f5d",
   "metadata": {},
   "outputs": [],
   "source": [
    "import glob\n",
    "path = \"data/*.csv\"\n",
    "merged = pd.DataFrame(columns=['Text', 'emoji'])\n",
    "#labeled = pd.DataFrame(columns=['Text', 'emoji', 'Sentiment'])\n",
    "#labeled.to_csv('_labeled.csv', mode='a', index=False)\n",
    "for fname in glob.glob(path):\n",
    "    read = pd.read_csv(fname, lineterminator='\\n')  \n",
    "    #train, test = train_test_split(read, test_size=0.999)\n",
    "\n",
    "    half_1, half_2 = train_test_split(read, test_size=0.8)\n",
    "    name_split = fname.split(\"/\")\n",
    "    new_name = name_split[1][:len(name_split[1])-4]\n",
    "    read['emoji'] = new_name\n",
    "    half_1['emoji'] = new_name\n",
    "    #train['emoji'] = new_name\n",
    "    #train.to_csv('_labeled.csv', mode='a', index=False, header=False)\n",
    "    \n",
    "    #merged = pd.concat([merged, read], ignore_index=True, axis=0)\n",
    "    merged = pd.concat([merged, half_1], ignore_index=True, axis=0)"
   ]
  },
  {
   "cell_type": "code",
   "execution_count": 4,
   "id": "f541175f-e4ef-4be5-afbc-a45a13edc08f",
   "metadata": {},
   "outputs": [
    {
     "data": {
      "text/html": [
       "<div>\n",
       "<style scoped>\n",
       "    .dataframe tbody tr th:only-of-type {\n",
       "        vertical-align: middle;\n",
       "    }\n",
       "\n",
       "    .dataframe tbody tr th {\n",
       "        vertical-align: top;\n",
       "    }\n",
       "\n",
       "    .dataframe thead th {\n",
       "        text-align: right;\n",
       "    }\n",
       "</style>\n",
       "<table border=\"1\" class=\"dataframe\">\n",
       "  <thead>\n",
       "    <tr style=\"text-align: right;\">\n",
       "      <th></th>\n",
       "      <th>Text</th>\n",
       "      <th>emoji</th>\n",
       "    </tr>\n",
       "  </thead>\n",
       "  <tbody>\n",
       "    <tr>\n",
       "      <th>171995</th>\n",
       "      <td>@xikers_official HAPPY BIRTHDAY MINJAE!!!!! 🥳💗</td>\n",
       "      <td>partying_face</td>\n",
       "    </tr>\n",
       "    <tr>\n",
       "      <th>171996</th>\n",
       "      <td>@andie1105 Swan Lake becomes Whale Lake 🙄</td>\n",
       "      <td>partying_face</td>\n",
       "    </tr>\n",
       "    <tr>\n",
       "      <th>171997</th>\n",
       "      <td>BaylorAthletics: Come early to tonight’s @Bayl...</td>\n",
       "      <td>partying_face</td>\n",
       "    </tr>\n",
       "    <tr>\n",
       "      <th>171998</th>\n",
       "      <td>@FoziaAliZafar31 Then don't. You will get what...</td>\n",
       "      <td>partying_face</td>\n",
       "    </tr>\n",
       "    <tr>\n",
       "      <th>171999</th>\n",
       "      <td>Happy birthday @LoneChildMJB 🥳 have a good one 🎂</td>\n",
       "      <td>partying_face</td>\n",
       "    </tr>\n",
       "  </tbody>\n",
       "</table>\n",
       "</div>"
      ],
      "text/plain": [
       "                                                     Text          emoji\n",
       "171995     @xikers_official HAPPY BIRTHDAY MINJAE!!!!! 🥳💗  partying_face\n",
       "171996          @andie1105 Swan Lake becomes Whale Lake 🙄  partying_face\n",
       "171997  BaylorAthletics: Come early to tonight’s @Bayl...  partying_face\n",
       "171998  @FoziaAliZafar31 Then don't. You will get what...  partying_face\n",
       "171999   Happy birthday @LoneChildMJB 🥳 have a good one 🎂  partying_face"
      ]
     },
     "execution_count": 4,
     "metadata": {},
     "output_type": "execute_result"
    }
   ],
   "source": [
    "merged.tail()"
   ]
  },
  {
   "cell_type": "markdown",
   "id": "535c9bc5-7e9f-4566-9482-3b0cfa4999f8",
   "metadata": {},
   "source": [
    "## Downloading NLTK "
   ]
  },
  {
   "cell_type": "code",
   "execution_count": 5,
   "id": "66470f46-ff02-4cdd-8001-de545700c048",
   "metadata": {},
   "outputs": [
    {
     "name": "stdout",
     "output_type": "stream",
     "text": [
      "Collecting nltk\n",
      "  Using cached nltk-3.8.1-py3-none-any.whl (1.5 MB)\n",
      "Requirement already satisfied: click in /opt/conda/lib/python3.11/site-packages (from nltk) (8.1.7)\n",
      "Requirement already satisfied: joblib in /opt/conda/lib/python3.11/site-packages (from nltk) (1.3.2)\n",
      "Collecting regex>=2021.8.3 (from nltk)\n",
      "  Using cached regex-2023.10.3-cp311-cp311-manylinux_2_17_x86_64.manylinux2014_x86_64.whl.metadata (40 kB)\n",
      "Requirement already satisfied: tqdm in /opt/conda/lib/python3.11/site-packages (from nltk) (4.66.1)\n",
      "Using cached regex-2023.10.3-cp311-cp311-manylinux_2_17_x86_64.manylinux2014_x86_64.whl (785 kB)\n",
      "Installing collected packages: regex, nltk\n",
      "Successfully installed nltk-3.8.1 regex-2023.10.3\n",
      "Note: you may need to restart the kernel to use updated packages.\n"
     ]
    }
   ],
   "source": [
    "pip install nltk"
   ]
  },
  {
   "cell_type": "code",
   "execution_count": 6,
   "id": "be8564cb-3c67-43dd-b633-447af39d7c45",
   "metadata": {},
   "outputs": [],
   "source": [
    "from sklearn.model_selection import train_test_split\n",
    "import nltk\n",
    "from nltk.corpus import stopwords\n",
    "from nltk.corpus import twitter_samples\n",
    "from nltk.tokenize import TweetTokenizer"
   ]
  },
  {
   "cell_type": "code",
   "execution_count": 7,
   "id": "abc9c9cb-2c63-41eb-a326-9fbb178a24f8",
   "metadata": {},
   "outputs": [
    {
     "name": "stderr",
     "output_type": "stream",
     "text": [
      "[nltk_data] Downloading package stopwords to /home/jovyan/nltk_data...\n",
      "[nltk_data]   Package stopwords is already up-to-date!\n"
     ]
    },
    {
     "data": {
      "text/plain": [
       "True"
      ]
     },
     "execution_count": 7,
     "metadata": {},
     "output_type": "execute_result"
    }
   ],
   "source": [
    "nltk.download('stopwords')"
   ]
  },
  {
   "cell_type": "markdown",
   "id": "2888f29b-29b0-42d3-bf6f-ee4975b90256",
   "metadata": {},
   "source": [
    "## Loading manually labeled data and fixing column names"
   ]
  },
  {
   "cell_type": "code",
   "execution_count": 8,
   "id": "d83899c1-2a86-48ae-a3bf-13b30d0f13f0",
   "metadata": {},
   "outputs": [
    {
     "data": {
      "text/html": [
       "<div>\n",
       "<style scoped>\n",
       "    .dataframe tbody tr th:only-of-type {\n",
       "        vertical-align: middle;\n",
       "    }\n",
       "\n",
       "    .dataframe tbody tr th {\n",
       "        vertical-align: top;\n",
       "    }\n",
       "\n",
       "    .dataframe thead th {\n",
       "        text-align: right;\n",
       "    }\n",
       "</style>\n",
       "<table border=\"1\" class=\"dataframe\">\n",
       "  <thead>\n",
       "    <tr style=\"text-align: right;\">\n",
       "      <th></th>\n",
       "      <th>Text</th>\n",
       "      <th>emoji</th>\n",
       "      <th>Sentiment\\r</th>\n",
       "    </tr>\n",
       "  </thead>\n",
       "  <tbody>\n",
       "    <tr>\n",
       "      <th>0</th>\n",
       "      <td>@kirawontmiss @Miki1_O It didn’t but thank you 🥰</td>\n",
       "      <td>smiling_face_with_hearts</td>\n",
       "      <td>1</td>\n",
       "    </tr>\n",
       "    <tr>\n",
       "      <th>1</th>\n",
       "      <td>@RosePinochet Stop being friends with so many ...</td>\n",
       "      <td>smiling_face_with_hearts</td>\n",
       "      <td>0</td>\n",
       "    </tr>\n",
       "    <tr>\n",
       "      <th>2</th>\n",
       "      <td>@madameraerae Lolz 😂 her sweet &amp;amp; adorable ...</td>\n",
       "      <td>smiling_face_with_hearts</td>\n",
       "      <td>1</td>\n",
       "    </tr>\n",
       "    <tr>\n",
       "      <th>3</th>\n",
       "      <td>I want this rabbit so cute 🥰 https://t.co/XWeZ...</td>\n",
       "      <td>smiling_face_with_hearts</td>\n",
       "      <td>1</td>\n",
       "    </tr>\n",
       "    <tr>\n",
       "      <th>4</th>\n",
       "      <td>@lily_dusk Lily so cute!!! 🥰</td>\n",
       "      <td>smiling_face_with_hearts</td>\n",
       "      <td>1</td>\n",
       "    </tr>\n",
       "  </tbody>\n",
       "</table>\n",
       "</div>"
      ],
      "text/plain": [
       "                                                Text  \\\n",
       "0   @kirawontmiss @Miki1_O It didn’t but thank you 🥰   \n",
       "1  @RosePinochet Stop being friends with so many ...   \n",
       "2  @madameraerae Lolz 😂 her sweet &amp; adorable ...   \n",
       "3  I want this rabbit so cute 🥰 https://t.co/XWeZ...   \n",
       "4                       @lily_dusk Lily so cute!!! 🥰   \n",
       "\n",
       "                      emoji  Sentiment\\r  \n",
       "0  smiling_face_with_hearts            1  \n",
       "1  smiling_face_with_hearts            0  \n",
       "2  smiling_face_with_hearts            1  \n",
       "3  smiling_face_with_hearts            1  \n",
       "4  smiling_face_with_hearts            1  "
      ]
     },
     "execution_count": 8,
     "metadata": {},
     "output_type": "execute_result"
    }
   ],
   "source": [
    "labeled = pd.read_csv(\"_labeled_final.csv\", lineterminator='\\n') \n",
    "labeled.head()"
   ]
  },
  {
   "cell_type": "code",
   "execution_count": 9,
   "id": "50793832-32fd-41fc-9e94-42cd4b03a2e6",
   "metadata": {},
   "outputs": [
    {
     "data": {
      "text/html": [
       "<div>\n",
       "<style scoped>\n",
       "    .dataframe tbody tr th:only-of-type {\n",
       "        vertical-align: middle;\n",
       "    }\n",
       "\n",
       "    .dataframe tbody tr th {\n",
       "        vertical-align: top;\n",
       "    }\n",
       "\n",
       "    .dataframe thead th {\n",
       "        text-align: right;\n",
       "    }\n",
       "</style>\n",
       "<table border=\"1\" class=\"dataframe\">\n",
       "  <thead>\n",
       "    <tr style=\"text-align: right;\">\n",
       "      <th></th>\n",
       "      <th>Text</th>\n",
       "      <th>Emoji</th>\n",
       "      <th>Sentiment</th>\n",
       "    </tr>\n",
       "  </thead>\n",
       "  <tbody>\n",
       "    <tr>\n",
       "      <th>0</th>\n",
       "      <td>@kirawontmiss @Miki1_O It didn’t but thank you 🥰</td>\n",
       "      <td>smiling_face_with_hearts</td>\n",
       "      <td>1</td>\n",
       "    </tr>\n",
       "    <tr>\n",
       "      <th>1</th>\n",
       "      <td>@RosePinochet Stop being friends with so many ...</td>\n",
       "      <td>smiling_face_with_hearts</td>\n",
       "      <td>0</td>\n",
       "    </tr>\n",
       "    <tr>\n",
       "      <th>2</th>\n",
       "      <td>@madameraerae Lolz 😂 her sweet &amp;amp; adorable ...</td>\n",
       "      <td>smiling_face_with_hearts</td>\n",
       "      <td>1</td>\n",
       "    </tr>\n",
       "    <tr>\n",
       "      <th>3</th>\n",
       "      <td>I want this rabbit so cute 🥰 https://t.co/XWeZ...</td>\n",
       "      <td>smiling_face_with_hearts</td>\n",
       "      <td>1</td>\n",
       "    </tr>\n",
       "    <tr>\n",
       "      <th>4</th>\n",
       "      <td>@lily_dusk Lily so cute!!! 🥰</td>\n",
       "      <td>smiling_face_with_hearts</td>\n",
       "      <td>1</td>\n",
       "    </tr>\n",
       "    <tr>\n",
       "      <th>...</th>\n",
       "      <td>...</td>\n",
       "      <td>...</td>\n",
       "      <td>...</td>\n",
       "    </tr>\n",
       "    <tr>\n",
       "      <th>855</th>\n",
       "      <td>@xikers_official happy birthday king !! love u...</td>\n",
       "      <td>partying_face</td>\n",
       "      <td>1</td>\n",
       "    </tr>\n",
       "    <tr>\n",
       "      <th>856</th>\n",
       "      <td>@MissYanfe What your Birthday 🥳</td>\n",
       "      <td>partying_face</td>\n",
       "      <td>1</td>\n",
       "    </tr>\n",
       "    <tr>\n",
       "      <th>857</th>\n",
       "      <td>@fynnbarr Happy birthday 🥳. May be blessings o...</td>\n",
       "      <td>partying_face</td>\n",
       "      <td>1</td>\n",
       "    </tr>\n",
       "    <tr>\n",
       "      <th>858</th>\n",
       "      <td>Congratulations @0xpickanya 🥳\\n\\n you won $15🏆...</td>\n",
       "      <td>partying_face</td>\n",
       "      <td>1</td>\n",
       "    </tr>\n",
       "    <tr>\n",
       "      <th>859</th>\n",
       "      <td>@crypoqback Congratulations!!🥳🎉🎉\\nLet's have a...</td>\n",
       "      <td>partying_face</td>\n",
       "      <td>1</td>\n",
       "    </tr>\n",
       "  </tbody>\n",
       "</table>\n",
       "<p>860 rows × 3 columns</p>\n",
       "</div>"
      ],
      "text/plain": [
       "                                                  Text  \\\n",
       "0     @kirawontmiss @Miki1_O It didn’t but thank you 🥰   \n",
       "1    @RosePinochet Stop being friends with so many ...   \n",
       "2    @madameraerae Lolz 😂 her sweet &amp; adorable ...   \n",
       "3    I want this rabbit so cute 🥰 https://t.co/XWeZ...   \n",
       "4                         @lily_dusk Lily so cute!!! 🥰   \n",
       "..                                                 ...   \n",
       "855  @xikers_official happy birthday king !! love u...   \n",
       "856                    @MissYanfe What your Birthday 🥳   \n",
       "857  @fynnbarr Happy birthday 🥳. May be blessings o...   \n",
       "858  Congratulations @0xpickanya 🥳\\n\\n you won $15🏆...   \n",
       "859  @crypoqback Congratulations!!🥳🎉🎉\\nLet's have a...   \n",
       "\n",
       "                        Emoji  Sentiment  \n",
       "0    smiling_face_with_hearts          1  \n",
       "1    smiling_face_with_hearts          0  \n",
       "2    smiling_face_with_hearts          1  \n",
       "3    smiling_face_with_hearts          1  \n",
       "4    smiling_face_with_hearts          1  \n",
       "..                        ...        ...  \n",
       "855             partying_face          1  \n",
       "856             partying_face          1  \n",
       "857             partying_face          1  \n",
       "858             partying_face          1  \n",
       "859             partying_face          1  \n",
       "\n",
       "[860 rows x 3 columns]"
      ]
     },
     "execution_count": 9,
     "metadata": {},
     "output_type": "execute_result"
    }
   ],
   "source": [
    "labeled.columns = [c.replace(\"\\r\", \"\") for c in labeled.columns]\n",
    "labeled.columns = [c.replace(\"emoji\", \"Emoji\") for c in labeled.columns]\n",
    "labeled"
   ]
  },
  {
   "cell_type": "markdown",
   "id": "70e2ab2a-5ff6-4ff3-93a5-b798e4aef4ba",
   "metadata": {},
   "source": [
    "## Graphing positive and negative tweets in training set"
   ]
  },
  {
   "cell_type": "code",
   "execution_count": 10,
   "id": "93bb48ca-2902-4640-ac8a-0c43e2de528e",
   "metadata": {},
   "outputs": [],
   "source": [
    "positive_tweets = []\n",
    "negative_tweets = []\n",
    "for index, row in labeled.iterrows():\n",
    "    if row['Sentiment'] == 1:\n",
    "        positive_tweets.append(row['Text'])\n",
    "    elif row['Sentiment'] == 0:\n",
    "        negative_tweets.append(row['Text'])"
   ]
  },
  {
   "cell_type": "code",
   "execution_count": 11,
   "id": "a91a94e5-06c7-4ead-a7f4-f6a05df2b167",
   "metadata": {},
   "outputs": [
    {
     "data": {
      "text/plain": [
       "(589, 271)"
      ]
     },
     "execution_count": 11,
     "metadata": {},
     "output_type": "execute_result"
    }
   ],
   "source": [
    "len(positive_tweets), len(negative_tweets)"
   ]
  },
  {
   "cell_type": "code",
   "execution_count": 12,
   "id": "03a9171e-438c-4a6b-a602-0c80415f7bf5",
   "metadata": {
    "scrolled": true
   },
   "outputs": [
    {
     "data": {
      "text/plain": [
       "Text(0.5, 0, 'Tweet Length')"
      ]
     },
     "execution_count": 12,
     "metadata": {},
     "output_type": "execute_result"
    },
    {
     "data": {
      "image/png": "[encoded data removed]",
      "text/plain": [
       "<Figure size 640x480 with 1 Axes>"
      ]
     },
     "metadata": {},
     "output_type": "display_data"
    }
   ],
   "source": [
    "import seaborn as sns\n",
    "import matplotlib.pyplot as plt\n",
    "sns.histplot([len(tweet) for tweet in positive_tweets], kde=True, color='green', label='Positive')\n",
    "sns.histplot([len(tweet) for tweet in negative_tweets], kde=True, color='red', label='Negative')\n",
    "plt.xlabel(\"Tweet Length\")"
   ]
  },
  {
   "cell_type": "markdown",
   "id": "e7eafc15-c25b-4f70-81d2-bffd94ae763e",
   "metadata": {},
   "source": [
    "## Test a Naive Bayes Model on the full dataset"
   ]
  },
  {
   "cell_type": "markdown",
   "id": "59b810a2-1a16-4df3-a951-13a28ebc8ff9",
   "metadata": {},
   "source": [
    "I wanted to train my model on this small, 860 length dataset and then try to predict the sentiments of the remaining thousands of samples. This may take a while to run, but it produces a graph that looks similar to the graph above. The problem is that because the testing samples don't have assigned sentiments, I have no way to test their accuracy. I had to find another way to test accuracy of my model."
   ]
  },
  {
   "cell_type": "code",
   "execution_count": 16,
   "id": "a38d7314-e048-4e30-a692-e6d47a706e34",
   "metadata": {},
   "outputs": [
    {
     "name": "stdout",
     "output_type": "stream",
     "text": [
      "Requirement already satisfied: emoji in /opt/conda/lib/python3.11/site-packages (2.9.0)\n",
      "Note: you may need to restart the kernel to use updated packages.\n"
     ]
    }
   ],
   "source": [
    "pip install emoji"
   ]
  },
  {
   "cell_type": "code",
   "execution_count": 18,
   "id": "0aed23ce-2826-4840-92a9-c17d181bc75c",
   "metadata": {},
   "outputs": [],
   "source": [
    "import re\n",
    "import string\n",
    "import emoji\n",
    "\n",
    "from nltk.corpus import stopwords\n",
    "from nltk.stem import PorterStemmer\n",
    "from nltk.tokenize import TweetTokenizer\n",
    "\n",
    "def process_tweet(tweet):\n",
    "    \"\"\"Input: tweet a string containing a tweet\n",
    "    Return:\n",
    "    tweets_clean: a list of words containing the processed tweet\n",
    "    \"\"\"\n",
    "    # remove stock market tickers like $GE\n",
    "    tweet = re.sub(r'\\$\\w*', '', tweet)\n",
    "    \n",
    "    # remove retweet text \"RT\"\n",
    "    tweet = re.sub(r'^RT[\\s]+', '', tweet)\n",
    "    \n",
    "    # remove hyperlinks\n",
    "    tweet = re.sub(r'https?:\\/\\/.*[\\r\\n]*', '', tweet)\n",
    "    \n",
    "    # remove hashtags\n",
    "    tweet = re.sub(r'#', '', tweet)\n",
    "    \n",
    "    # Instantiate stemmer class\n",
    "    stemmer = PorterStemmer()\n",
    "    \n",
    "    # Create stopwords list\n",
    "    stopwords_english = stopwords.words('english')\n",
    "    \n",
    "    # Tokenize tweets\n",
    "    tokenizer = TweetTokenizer(preserve_case=False, strip_handles=True, reduce_len=True)\n",
    "    \n",
    "    # Tokenize the tweets\n",
    "    tweet_tokens = tokenizer.tokenize(tweet)\n",
    "    \n",
    "    tweets_clean = []\n",
    "    for word in tweet_tokens:\n",
    "        word = emoji.replace_emoji(word, '')\n",
    "        if (word not in stopwords_english and word not in string.punctuation and word != '’' and \n",
    "            (word.isalpha() or \"_\" in word)):\n",
    "            stem_word = stemmer.stem(word)\n",
    "            tweets_clean.append(stem_word)\n",
    "    return tweets_clean"
   ]
  },
  {
   "cell_type": "code",
   "execution_count": 19,
   "id": "236de725-cd98-405f-8e1e-f5e5048ec296",
   "metadata": {},
   "outputs": [],
   "source": [
    "## Let's create a dictionary of words and their frequencies\n",
    "def count_tweets(result, tweets, ys):\n",
    "    \"\"\"Input:\n",
    "    result: a dictionary that will contain the frequency of each pair (word, label)\n",
    "    tweets: a list of tweets\n",
    "    ys: an m x 1 array with the sentiment label of each tweet (either 0 or 1)\n",
    "    \"\"\"\n",
    "    # iterate through each tweet and its label\n",
    "    for y, tweet in zip(ys, tweets):\n",
    "        # process the tweet to get the words in the form of a list\n",
    "        for word in process_tweet(tweet):\n",
    "            # increment the word count for the pair (word, label)\n",
    "            pair = (word, y)\n",
    "            if pair in result:\n",
    "                result[pair] += 1\n",
    "            else:\n",
    "                result[pair] = 1\n",
    "    return result"
   ]
  },
  {
   "cell_type": "code",
   "execution_count": 20,
   "id": "4068a15c-d776-4b5e-a9db-ca29307faa3d",
   "metadata": {},
   "outputs": [],
   "source": [
    "y_train = labeled['Sentiment']"
   ]
  },
  {
   "cell_type": "code",
   "execution_count": 21,
   "id": "040efc27-d1a2-430c-a649-b6cfd518de0e",
   "metadata": {},
   "outputs": [],
   "source": [
    "X_train = labeled['Text'] + ' ' + labeled['Emoji']"
   ]
  },
  {
   "cell_type": "code",
   "execution_count": 22,
   "id": "80f57881-f364-4482-8183-5998ea33e84b",
   "metadata": {},
   "outputs": [],
   "source": [
    "freqs = count_tweets({}, X_train, y_train)"
   ]
  },
  {
   "cell_type": "code",
   "execution_count": 23,
   "id": "d62f1604-70a9-4805-b891-1eb59d4389a0",
   "metadata": {},
   "outputs": [],
   "source": [
    "def naive_bayes(freqs, X_train, y_train):\n",
    "    \"\"\"Train a Naive Bayes classifier on twitter data.\n",
    "\n",
    "    Args:\n",
    "        freqs (dict): dictionary of (word, label): frequency pairs\n",
    "        X_train (list): list of tweets\n",
    "        y_train (list): list of tweets\n",
    "        \n",
    "    returns:\n",
    "    logprior (float): log prior\n",
    "    loglikelihood (dict): dictionary of (word, label): log likelihood pairs\n",
    "    \"\"\"\n",
    "    ## Compare the code here with Jurafsky and Martin's pseudocode\n",
    "    \n",
    "    loglikelihood = {}\n",
    "    logprior = 0\n",
    "    \n",
    "    vocab = set([pair[0] for pair in freqs.keys()]) # words in the vocabulary\n",
    "    V = len(vocab) # number of unique words in the vocabulary\n",
    "    \n",
    "    # Calculate N_pos and N_neg tweets (number of positive and negative tweets)\n",
    "    N_pos, N_neg = 0, 0 # number of positive and negative tweets\n",
    "    \n",
    "    # Calculate the number of positive and negative tweets\n",
    "    for pair in freqs.keys():\n",
    "        # positive tweets\n",
    "        if int(pair[1]) > 0:\n",
    "            N_pos += freqs[pair]\n",
    "        # negative tweets\n",
    "        else:\n",
    "            N_neg += freqs[pair]\n",
    "    \n",
    "    # Documents = total number of tweets\n",
    "    D = len(X_train)\n",
    "    \n",
    "    # Calculate # of positive and negative documents\n",
    "    D_pos = np.sum(y_train)\n",
    "    D_neg = D - D_pos\n",
    "    \n",
    "    logprior = np.log(D_pos) - np.log(D_neg)\n",
    "    \n",
    "    for word in vocab:\n",
    "        \n",
    "        freq_pos = freqs.get((word, 1.0), 0)\n",
    "        freq_neg = freqs.get((word, 0.0), 0)\n",
    "        \n",
    "        p_w_pos = (freq_pos + 1) / (N_pos + V)\n",
    "        p_w_neg = (freq_neg + 1) / (N_neg + V)\n",
    "        \n",
    "        loglikelihood[word] = np.log(p_w_pos / p_w_neg)\n",
    "    \n",
    "    return logprior, loglikelihood"
   ]
  },
  {
   "cell_type": "code",
   "execution_count": 24,
   "id": "13930ac4-6a56-43c8-a4a9-78432e1fa38d",
   "metadata": {},
   "outputs": [],
   "source": [
    "logprior, loglikelihood = naive_bayes(freqs, X_train, y_train)"
   ]
  },
  {
   "cell_type": "code",
   "execution_count": 25,
   "id": "7f66317d-4cbf-4ab6-b034-4a05a066e45b",
   "metadata": {},
   "outputs": [],
   "source": [
    "def predict_naive_bayes(tweet, logprior, loglikelihood):\n",
    "    \"\"\"Input:\n",
    "    tweet: a string\n",
    "    logprior: a number\n",
    "    loglikelihood: a dictionary of words mapping to numbers\n",
    "    Output:\n",
    "    p: the sum of all the logliklihoods of each word in the tweet (if found in the dictionary) + logprior (a number)\n",
    "    \"\"\"\n",
    "    word_l = process_tweet(tweet)\n",
    "    \n",
    "    p = 0\n",
    "    p += logprior\n",
    "    \n",
    "    for word in word_l:\n",
    "        if word in loglikelihood:\n",
    "            p += loglikelihood[word]\n",
    "    \n",
    "    return p"
   ]
  },
  {
   "cell_type": "code",
   "execution_count": 33,
   "id": "377eed5b-406b-4506-8245-65bf57c9225a",
   "metadata": {},
   "outputs": [],
   "source": [
    "test = merged[(~merged.Text.isin(labeled.Text))]"
   ]
  },
  {
   "cell_type": "code",
   "execution_count": 34,
   "id": "37259ad9-4718-47f0-9af5-071c6aef1c9f",
   "metadata": {},
   "outputs": [
    {
     "data": {
      "text/html": [
       "<div>\n",
       "<style scoped>\n",
       "    .dataframe tbody tr th:only-of-type {\n",
       "        vertical-align: middle;\n",
       "    }\n",
       "\n",
       "    .dataframe tbody tr th {\n",
       "        vertical-align: top;\n",
       "    }\n",
       "\n",
       "    .dataframe thead th {\n",
       "        text-align: right;\n",
       "    }\n",
       "</style>\n",
       "<table border=\"1\" class=\"dataframe\">\n",
       "  <thead>\n",
       "    <tr style=\"text-align: right;\">\n",
       "      <th></th>\n",
       "      <th>Text</th>\n",
       "      <th>emoji</th>\n",
       "    </tr>\n",
       "  </thead>\n",
       "  <tbody>\n",
       "    <tr>\n",
       "      <th>0</th>\n",
       "      <td>@appelpoes lmfao ofc it’ll be easy bcs i love ...</td>\n",
       "      <td>smiling_face_with_hearts</td>\n",
       "    </tr>\n",
       "    <tr>\n",
       "      <th>1</th>\n",
       "      <td>@mama_mochi7 You too Carrie!! LY 🥰 😘💜</td>\n",
       "      <td>smiling_face_with_hearts</td>\n",
       "    </tr>\n",
       "    <tr>\n",
       "      <th>2</th>\n",
       "      <td>I can’t wait for Stomp Wars step competition 😇...</td>\n",
       "      <td>smiling_face_with_hearts</td>\n",
       "    </tr>\n",
       "    <tr>\n",
       "      <th>3</th>\n",
       "      <td>hello i find you really pretty hehe — hii, tha...</td>\n",
       "      <td>smiling_face_with_hearts</td>\n",
       "    </tr>\n",
       "    <tr>\n",
       "      <th>4</th>\n",
       "      <td>this lil guy keeping me company while i decora...</td>\n",
       "      <td>smiling_face_with_hearts</td>\n",
       "    </tr>\n",
       "  </tbody>\n",
       "</table>\n",
       "</div>"
      ],
      "text/plain": [
       "                                                Text                     emoji\n",
       "0  @appelpoes lmfao ofc it’ll be easy bcs i love ...  smiling_face_with_hearts\n",
       "1              @mama_mochi7 You too Carrie!! LY 🥰 😘💜  smiling_face_with_hearts\n",
       "2  I can’t wait for Stomp Wars step competition 😇...  smiling_face_with_hearts\n",
       "3  hello i find you really pretty hehe — hii, tha...  smiling_face_with_hearts\n",
       "4  this lil guy keeping me company while i decora...  smiling_face_with_hearts"
      ]
     },
     "execution_count": 34,
     "metadata": {},
     "output_type": "execute_result"
    }
   ],
   "source": [
    "test.head()"
   ]
  },
  {
   "cell_type": "code",
   "execution_count": 35,
   "id": "9c9cd1c7-dae1-48bb-8246-d1b13656e8e8",
   "metadata": {},
   "outputs": [],
   "source": [
    "test_tweet = test['Text'] + ' ' + test['emoji']\n",
    "results_df = pd.DataFrame(columns = ['Text + Emoji', 'Sentiment'])\n",
    "results = []\n",
    "results_clean = []\n",
    "positive_test_tweets = []\n",
    "negative_test_tweets = []\n",
    "for t in test_tweet:\n",
    "    raw = predict_naive_bayes(t, logprior, loglikelihood)\n",
    "    results.append(raw)\n",
    "    if raw <= 0:\n",
    "        results_clean.append(0)\n",
    "        negative_test_tweets.append(t)\n",
    "        results_df.loc[len(results_df.index)] = [t, 0] \n",
    "    elif raw > 0:\n",
    "        results_clean.append(1)\n",
    "        positive_test_tweets.append(t)\n",
    "        results_df.loc[len(results_df.index)] = [t, 1] \n",
    "    #print( '%s -> %f' % (t, predict_naive_bayes(t, logprior, loglikelihood)))"
   ]
  },
  {
   "cell_type": "code",
   "execution_count": 36,
   "id": "3635321f-d216-4c05-8cb9-8867e1ff64ee",
   "metadata": {},
   "outputs": [
    {
     "data": {
      "text/plain": [
       "(129484, 42312)"
      ]
     },
     "execution_count": 36,
     "metadata": {},
     "output_type": "execute_result"
    }
   ],
   "source": [
    "len(positive_test_tweets), len(negative_test_tweets)"
   ]
  },
  {
   "cell_type": "code",
   "execution_count": 37,
   "id": "00398a43-fbb3-4066-a9b7-b26ef3cee391",
   "metadata": {},
   "outputs": [
    {
     "data": {
      "text/plain": [
       "<Axes: ylabel='Count'>"
      ]
     },
     "execution_count": 37,
     "metadata": {},
     "output_type": "execute_result"
    },
    {
     "data": {
      "image/png": "[encoded data removed]",
      "text/plain": [
       "<Figure size 640x480 with 1 Axes>"
      ]
     },
     "metadata": {},
     "output_type": "display_data"
    }
   ],
   "source": [
    "sns.histplot([len(tweet) for tweet in positive_test_tweets], kde=True, color='green', label='Positive')\n",
    "sns.histplot([len(tweet) for tweet in negative_test_tweets], kde=True, color='red', label='Negative')"
   ]
  },
  {
   "cell_type": "markdown",
   "id": "5f418b81-b38f-488e-a354-7fddbff5f71e",
   "metadata": {},
   "source": [
    "Examples of positive and negative tweets that the model categorized:"
   ]
  },
  {
   "cell_type": "code",
   "execution_count": 38,
   "id": "83511aaa-f1b6-49d5-b98e-c6b482fc7502",
   "metadata": {},
   "outputs": [],
   "source": [
    "from numpy.random import randint"
   ]
  },
  {
   "cell_type": "code",
   "execution_count": 43,
   "id": "08057d3b-3b16-41a5-8893-82a2f796e28c",
   "metadata": {},
   "outputs": [
    {
     "data": {
      "text/plain": [
       "'@JeremyRenner \\nHope you heal quickly we need you either way no matter what condition or how battlewarn you are ok!!!!!!! Be kind to yourself.\\n2 nd commandment love your neighbor as you love yourself.\\nSo love yourself!!!!! HAPPY EASTER!!!🐇🐇🐇🐇🐇 rabbit'"
      ]
     },
     "execution_count": 43,
     "metadata": {},
     "output_type": "execute_result"
    }
   ],
   "source": [
    "positive_test_tweets[randint(0, len(positive_test_tweets))]"
   ]
  },
  {
   "cell_type": "code",
   "execution_count": 44,
   "id": "a1ef2e3e-c6c5-4eb1-8ebb-796176dbc611",
   "metadata": {},
   "outputs": [
    {
     "data": {
      "text/plain": [
       "'💔 says multiple casualties, heard 8 people atleast was hit &amp; one officer was down on the steps with a head shot 💔 so sad man white_heart'"
      ]
     },
     "execution_count": 44,
     "metadata": {},
     "output_type": "execute_result"
    }
   ],
   "source": [
    "negative_test_tweets[randint(0, len(negative_test_tweets))]"
   ]
  },
  {
   "cell_type": "code",
   "execution_count": 45,
   "id": "b6aec688-1d1e-431f-b942-ce12b92ae2a4",
   "metadata": {},
   "outputs": [
    {
     "data": {
      "text/html": [
       "<div>\n",
       "<style scoped>\n",
       "    .dataframe tbody tr th:only-of-type {\n",
       "        vertical-align: middle;\n",
       "    }\n",
       "\n",
       "    .dataframe tbody tr th {\n",
       "        vertical-align: top;\n",
       "    }\n",
       "\n",
       "    .dataframe thead th {\n",
       "        text-align: right;\n",
       "    }\n",
       "</style>\n",
       "<table border=\"1\" class=\"dataframe\">\n",
       "  <thead>\n",
       "    <tr style=\"text-align: right;\">\n",
       "      <th></th>\n",
       "      <th>Text + Emoji</th>\n",
       "      <th>Sentiment</th>\n",
       "    </tr>\n",
       "  </thead>\n",
       "  <tbody>\n",
       "    <tr>\n",
       "      <th>0</th>\n",
       "      <td>@appelpoes lmfao ofc it’ll be easy bcs i love ...</td>\n",
       "      <td>0</td>\n",
       "    </tr>\n",
       "    <tr>\n",
       "      <th>1</th>\n",
       "      <td>@mama_mochi7 You too Carrie!! LY 🥰 😘💜 smiling_...</td>\n",
       "      <td>1</td>\n",
       "    </tr>\n",
       "    <tr>\n",
       "      <th>2</th>\n",
       "      <td>I can’t wait for Stomp Wars step competition 😇...</td>\n",
       "      <td>0</td>\n",
       "    </tr>\n",
       "    <tr>\n",
       "      <th>3</th>\n",
       "      <td>hello i find you really pretty hehe — hii, tha...</td>\n",
       "      <td>1</td>\n",
       "    </tr>\n",
       "    <tr>\n",
       "      <th>4</th>\n",
       "      <td>this lil guy keeping me company while i decora...</td>\n",
       "      <td>1</td>\n",
       "    </tr>\n",
       "  </tbody>\n",
       "</table>\n",
       "</div>"
      ],
      "text/plain": [
       "                                        Text + Emoji  Sentiment\n",
       "0  @appelpoes lmfao ofc it’ll be easy bcs i love ...          0\n",
       "1  @mama_mochi7 You too Carrie!! LY 🥰 😘💜 smiling_...          1\n",
       "2  I can’t wait for Stomp Wars step competition 😇...          0\n",
       "3  hello i find you really pretty hehe — hii, tha...          1\n",
       "4  this lil guy keeping me company while i decora...          1"
      ]
     },
     "execution_count": 45,
     "metadata": {},
     "output_type": "execute_result"
    }
   ],
   "source": [
    "results_df.head()"
   ]
  },
  {
   "cell_type": "markdown",
   "id": "7b2ebfe1-3706-4556-8c9e-5038afb841fa",
   "metadata": {},
   "source": [
    "In order to get an actual accuracy for my model, I wanted to run 4 trials."
   ]
  },
  {
   "cell_type": "markdown",
   "id": "a08e94be-aaf2-4112-b5ad-c7c6433a0d28",
   "metadata": {},
   "source": [
    "## Testing Text With No Emojis"
   ]
  },
  {
   "cell_type": "code",
   "execution_count": 22,
   "id": "a51ce298-04ce-4515-be8f-2b5225641205",
   "metadata": {},
   "outputs": [
    {
     "data": {
      "text/plain": [
       "(688, 172, 688, 172)"
      ]
     },
     "execution_count": 22,
     "metadata": {},
     "output_type": "execute_result"
    }
   ],
   "source": [
    "X_train, X_test, y_train, y_test = train_test_split(labeled['Text'],\n",
    "                                                    labeled['Sentiment'],\n",
    "                                                    test_size=0.2,\n",
    "                                                    random_state=123)\n",
    "\n",
    "len(X_train), len(X_test), len(y_train), len(y_test)"
   ]
  },
  {
   "cell_type": "code",
   "execution_count": 24,
   "id": "5669d150-5e4a-4072-bdc8-17d85862d004",
   "metadata": {},
   "outputs": [],
   "source": [
    "import re\n",
    "import string\n",
    "import emoji\n",
    "\n",
    "from nltk.corpus import stopwords\n",
    "from nltk.stem import PorterStemmer\n",
    "from nltk.tokenize import TweetTokenizer\n",
    "\n",
    "def process_tweet(tweet):\n",
    "    \"\"\"Input: tweet a string containing a tweet\n",
    "    Return:\n",
    "    tweets_clean: a list of words containing the processed tweet\n",
    "    \"\"\"\n",
    "    # remove stock market tickers like $GE\n",
    "    tweet = re.sub(r'\\$\\w*', '', tweet)\n",
    "    \n",
    "    # remove retweet text \"RT\"\n",
    "    tweet = re.sub(r'^RT[\\s]+', '', tweet)\n",
    "    \n",
    "    # remove hyperlinks\n",
    "    tweet = re.sub(r'https?:\\/\\/.*[\\r\\n]*', '', tweet)\n",
    "    \n",
    "    # remove hashtags\n",
    "    tweet = re.sub(r'#', '', tweet)\n",
    "    \n",
    "    # Instantiate stemmer class\n",
    "    stemmer = PorterStemmer()\n",
    "    \n",
    "    # Create stopwords list\n",
    "    stopwords_english = stopwords.words('english')\n",
    "    \n",
    "    # Tokenize tweets\n",
    "    tokenizer = TweetTokenizer(preserve_case=False, strip_handles=True, reduce_len=True)\n",
    "    \n",
    "    # Tokenize the tweets\n",
    "    tweet_tokens = tokenizer.tokenize(tweet)\n",
    "    \n",
    "    tweets_clean = []\n",
    "    for word in tweet_tokens:\n",
    "        word = emoji.replace_emoji(word, '')\n",
    "        if (word not in stopwords_english and word not in string.punctuation and word != '’' and \n",
    "            (word.isalpha() or \"_\" in word)):\n",
    "            stem_word = stemmer.stem(word)\n",
    "            tweets_clean.append(stem_word)\n",
    "    return tweets_clean"
   ]
  },
  {
   "cell_type": "code",
   "execution_count": 25,
   "id": "2a6f46cc-9fc6-4ca3-b3ed-11c16ad034f9",
   "metadata": {},
   "outputs": [],
   "source": [
    "## Let's create a dictionary of words and their frequencies\n",
    "def count_tweets(result, tweets, ys):\n",
    "    \"\"\"Input:\n",
    "    result: a dictionary that will contain the frequency of each pair (word, label)\n",
    "    tweets: a list of tweets\n",
    "    ys: an m x 1 array with the sentiment label of each tweet (either 0 or 1)\n",
    "    \"\"\"\n",
    "    # iterate through each tweet and its label\n",
    "    for y, tweet in zip(ys, tweets):\n",
    "        # process the tweet to get the words in the form of a list\n",
    "        for word in process_tweet(tweet):\n",
    "            # increment the word count for the pair (word, label)\n",
    "            pair = (word, y)\n",
    "            if pair in result:\n",
    "                result[pair] += 1\n",
    "            else:\n",
    "                result[pair] = 1\n",
    "    return result"
   ]
  },
  {
   "cell_type": "code",
   "execution_count": 26,
   "id": "77714f2b-ad53-4a18-a71a-989971ae7203",
   "metadata": {},
   "outputs": [],
   "source": [
    "freqs = count_tweets({}, X_train, y_train)"
   ]
  },
  {
   "cell_type": "code",
   "execution_count": 27,
   "id": "ab5900fc-7f76-4500-a46a-27c624678d98",
   "metadata": {},
   "outputs": [],
   "source": [
    "## Let's create a function to extract the features from the tweets\n",
    "\n",
    "def naive_bayes(freqs, X_train, y_train):\n",
    "    \"\"\"Train a Naive Bayes classifier on twitter data.\n",
    "\n",
    "    Args:\n",
    "        freqs (dict): dictionary of (word, label): frequency pairs\n",
    "        X_train (list): list of tweets\n",
    "        y_train (list): list of tweets\n",
    "        \n",
    "    returns:\n",
    "    logprior (float): log prior\n",
    "    loglikelihood (dict): dictionary of (word, label): log likelihood pairs\n",
    "    \"\"\"\n",
    "    ## Compare the code here with Jurafsky and Martin's pseudocode\n",
    "    \n",
    "    loglikelihood = {}\n",
    "    logprior = 0\n",
    "    \n",
    "    vocab = set([pair[0] for pair in freqs.keys()]) # words in the vocabulary\n",
    "    V = len(vocab) # number of unique words in the vocabulary\n",
    "    \n",
    "    # Calculate N_pos and N_neg tweets (number of positive and negative tweets)\n",
    "    N_pos, N_neg = 0, 0 # number of positive and negative tweets\n",
    "    \n",
    "    # Calculate the number of positive and negative tweets\n",
    "    for pair in freqs.keys():\n",
    "        # positive tweets\n",
    "        if pair[1] > 0:\n",
    "            N_pos += freqs[pair]\n",
    "        # negative tweets\n",
    "        else:\n",
    "            N_neg += freqs[pair]\n",
    "    \n",
    "    # Documents = total number of tweets\n",
    "    D = len(X_train)\n",
    "    \n",
    "    # Calculate # of positive and negative documents\n",
    "    D_pos = np.sum(y_train)\n",
    "    D_neg = D - D_pos\n",
    "    \n",
    "    logprior = np.log(D_pos) - np.log(D_neg)\n",
    "    \n",
    "    for word in vocab:\n",
    "        \n",
    "        freq_pos = freqs.get((word, 1.0), 0)\n",
    "        freq_neg = freqs.get((word, 0.0), 0)\n",
    "        \n",
    "        p_w_pos = (freq_pos + 1) / (N_pos + V)\n",
    "        p_w_neg = (freq_neg + 1) / (N_neg + V)\n",
    "        \n",
    "        loglikelihood[word] = np.log(p_w_pos / p_w_neg)\n",
    "    \n",
    "    return logprior, loglikelihood"
   ]
  },
  {
   "cell_type": "code",
   "execution_count": 28,
   "id": "5657ff81-2f0a-4583-9cf7-47f7777cfd14",
   "metadata": {},
   "outputs": [],
   "source": [
    "logprior, loglikelihood = naive_bayes(freqs, X_train, y_train)"
   ]
  },
  {
   "cell_type": "code",
   "execution_count": 32,
   "id": "ccc65e76-9a9a-4592-9845-ca90f94b97d0",
   "metadata": {},
   "outputs": [],
   "source": [
    "def predict_naive_bayes(tweet, logprior, loglikelihood):\n",
    "    \"\"\"Input:\n",
    "    tweet: a string\n",
    "    logprior: a number\n",
    "    loglikelihood: a dictionary of words mapping to numbers\n",
    "    Output:\n",
    "    p: the sum of all the logliklihoods of each word in the tweet (if found in the dictionary) + logprior (a number)\n",
    "    \"\"\"\n",
    "    word_l = process_tweet(tweet)\n",
    "    \n",
    "    p = 0\n",
    "    p += logprior\n",
    "    \n",
    "    for word in word_l:\n",
    "        if word in loglikelihood:\n",
    "            p += loglikelihood[word]\n",
    "    \n",
    "    return p"
   ]
  },
  {
   "cell_type": "code",
   "execution_count": 33,
   "id": "607593fe-be26-44b7-acb1-0f07e6d1f01f",
   "metadata": {},
   "outputs": [],
   "source": [
    "labeled_positive_test_tweets = []\n",
    "labeled_negative_test_tweets = []\n",
    "test_df = pd.DataFrame(columns = ['Text', 'Calculated', 'Actual'])"
   ]
  },
  {
   "cell_type": "code",
   "execution_count": 34,
   "id": "7d70a2d2-5348-41b0-b951-7fa99fd2c899",
   "metadata": {},
   "outputs": [],
   "source": [
    "def test_naive_bayes(X_test, y_test, logprior, loglikelihood, labeled_positive_test_tweets,\n",
    "    labeled_negative_test_tweets):\n",
    "    \"\"\"Input:\n",
    "    X_test: a list of tweets\n",
    "    y_test: (m, 1) array with the sentiment label of each tweet (either 0 or 1)\n",
    "    logprior: a number\n",
    "    loglikelihood: a dictionary of words mapping to numbers\n",
    "    Output:\n",
    "    accuracy: (# of tweets classified correctly) / (total # of tweets)\n",
    "    \"\"\"\n",
    "    \n",
    "    # Let's score the accuracy of our model\n",
    "    accuracy = 0\n",
    "    \n",
    "    # Our predictions will be stored in y_hat\n",
    "    y_hat = []\n",
    "    index1 = 0\n",
    "    for tweet in X_test:\n",
    "        index = np.where(labeled['Text'] == tweet)[0][0]\n",
    "        #print(index)\n",
    "        actual = labeled._get_value(index, 'Sentiment')\n",
    "        #print(index, actual)\n",
    "        if predict_naive_bayes(tweet, logprior, loglikelihood) > 0:\n",
    "            y_hat.append(1)\n",
    "            labeled_positive_test_tweets.append(tweet)\n",
    "            test_df.loc[index1] = pd.Series({'Text':tweet, 'Calculated':1, 'Actual':actual})\n",
    "        else:\n",
    "            y_hat.append(0)\n",
    "            labeled_negative_test_tweets.append(tweet)\n",
    "            test_df.loc[index1] = pd.Series({'Text':tweet, 'Calculated':0, 'Actual':actual})\n",
    "        index1 = index1 + 1\n",
    "    \n",
    "    # error is the average of the absolute values of the differences between y_hat and y_test\n",
    "    error = np.mean(np.abs(y_hat - y_test))\n",
    "    \n",
    "    accuracy = 1 - error\n",
    "    \n",
    "    return accuracy"
   ]
  },
  {
   "cell_type": "code",
   "execution_count": 35,
   "id": "bb50141f-05d0-4034-83ba-9a4a5da126f0",
   "metadata": {},
   "outputs": [
    {
     "name": "stdout",
     "output_type": "stream",
     "text": [
      "Naive Bayes accuracy = 0.691860\n"
     ]
    }
   ],
   "source": [
    "print(\"Naive Bayes accuracy = %f\" % test_naive_bayes(X_test, y_test, logprior, loglikelihood, labeled_positive_test_tweets,\n",
    "    labeled_negative_test_tweets))"
   ]
  },
  {
   "cell_type": "markdown",
   "id": "9dffb51e-92e4-41bf-b0e0-ff6bd5fdc4f6",
   "metadata": {},
   "source": [
    "All of the misclassified tweets:"
   ]
  },
  {
   "cell_type": "code",
   "execution_count": 41,
   "id": "97f79bd9-d694-4bfd-acc7-40782a7ad76b",
   "metadata": {},
   "outputs": [
    {
     "name": "stdout",
     "output_type": "stream",
     "text": [
      "@ethy_yopi @AishaDaughter Sis I totally agree, that’s why I love the rural parts of Africa where the ppl haven’t been corrupted by European stands of beauty……\n",
      "\n",
      "These kinda list don’t help African women at all, they just cause more damage &amp; insecurities bc of where they come on these stupid list.😤😡😡\n",
      "Calculated: 1 Actual: 0\n",
      "<======>\n",
      "instead of reading the near constant negativity both in the tl and in my dm’s - im gonna log off for the rest of the weekend 😵‍💫😶🫠 \n",
      "\n",
      "pls keep streaming for yoonmin! \n",
      "https://t.co/kdfwMP1ZWL https://t.co/vJXMmGEzjv\n",
      "Calculated: 1 Actual: 0\n",
      "<======>\n",
      "Isa pa tong your name engraved herein 🖕🖕🖕\n",
      "Calculated: 1 Actual: 0\n",
      "<======>\n",
      "This is what inspires me to go out and get ppl to register to vote. Ain’t no way I’m going to listen to 4 years of trump having a platform to call a grievance press conference every damn day. #Imsickofallthisshit🙄😡\n",
      "Calculated: 0 Actual: 1\n",
      "<======>\n",
      "@ReallyAceryl i haven’t been keeping up with this who’s been harassing my nandor 😤😤😤😤\n",
      "Calculated: 1 Actual: 0\n",
      "<======>\n",
      "@JonJacks_ @shannonsharpeee Though his reaction was overboard I get it. Still, as a parent of either child it would have been very difficult not to crack tf up…😂\n",
      "Calculated: 0 Actual: 1\n",
      "<======>\n",
      "@TalibanPRD Because obviously you guys are the nicest people 🤡, Israel belongs to the Jews u biggots\n",
      "Calculated: 1 Actual: 0\n",
      "<======>\n",
      "@lerry_mol @PrimusIntrapare @BadonB You've found your voices. 💀\n",
      "Calculated: 1 Actual: 0\n",
      "<======>\n",
      "@lvcilvr @Luffycore_ ONG ILL BUY THE BESTEST GUFT EVER AND IMA HAVE THE CUTEST RED DRESS ILL SLAY 😝😝\n",
      "Calculated: 0 Actual: 1\n",
      "<======>\n",
      "Gabriel Jesus is actually working on Liverpool fans😂😂😂😂\n",
      "Calculated: 0 Actual: 1\n",
      "<======>\n",
      "@SpecsSol Ofc they let it happen if it’s frank is that a question 🤣🤣🤣\n",
      "Calculated: 1 Actual: 0\n",
      "<======>\n",
      "@Zoyablooms yuppp. he’s been in a few dramas and bls. you probably know him from the bls. that’s kim jiwoong, the person on boys planet that i’ve been fighting and voting for on these streets. 🫠\n",
      "Calculated: 0 Actual: 1\n",
      "<======>\n",
      "OHIO STATE!!! 💪💪💪\n",
      "\n",
      "How bout them Buckeyes @richeisen 😂😂😂\n",
      "\n",
      "And a big f*** you to @ColinCowherd who constantly bad about OSU 🖕🖕🖕\n",
      "\n",
      "#Buckeyes \n",
      "#NFL \n",
      "#NFLDraft \n",
      "#NFLDraft2023\n",
      "Calculated: 0 Actual: 1\n",
      "<======>\n",
      "@filmhelvar i would love to but also have no time right now because of finals szn 😭\n",
      "Calculated: 1 Actual: 0\n",
      "<======>\n",
      "@HailEternal Lmao the irony behind that post. The fact that the rainbow represents peace in the Bible and they’re reflecting that peace is insane 💀\n",
      "Calculated: 0 Actual: 1\n",
      "<======>\n",
      "@LisaJoh61770094 I don't think that's enough to buy gas to get to the salon. 🤣🤣🤣🤣🤣🤣\n",
      "Calculated: 1 Actual: 0\n",
      "<======>\n",
      "@NotFancy_ I'll loose faith in love if I don't have hope for them 😭\n",
      "Calculated: 1 Actual: 0\n",
      "<======>\n",
      "@Slic_Ric1 Lol there’s nothing wrong with being moist🤣\n",
      "Calculated: 0 Actual: 1\n",
      "<======>\n",
      "@CNN And, just like that #CNN to the rescue! 🖕🖕\n",
      "Calculated: 1 Actual: 0\n",
      "<======>\n",
      "@miraj786123 @soldierspeaks Ofcourse they have LOT solid reasons to be scared 😨, as they know WHAT'S COMING, for long time they have being looting Pakistan, both politicians and most of Army top leaders, not low ranking officers or soldiers.\n",
      "I love my Army but hate those no good top Gernals, accountable\n",
      "Calculated: 1 Actual: 0\n",
      "<======>\n",
      "If you want to understand world politics then just imagine Star Wars, with Sith and Jedi, except they switch sides routinely, don’t have lightsabers or finger-lightning, and are good buddies behind the scenes 😇🤝😈 https://t.co/tiMJ5YAWJc\n",
      "Calculated: 0 Actual: 1\n",
      "<======>\n",
      "@GeorgeTakei There’s actually quite a few historical examples of the path we’re currently on, championed by folks like you that are protected by wealth, ending in failure. But hey I bet this time will be different right? What a 🤡\n",
      "Calculated: 1 Actual: 0\n",
      "<======>\n",
      "@Sug4rcake wtf 😨 hope ur all good tho !! that’d traumatize me forever 😭😭\n",
      "Calculated: 1 Actual: 0\n",
      "<======>\n",
      "Ppl at my job always assume that I don’t have any children 😅 y’all my son is 5 I’m not new to the game\n",
      "Calculated: 1 Actual: 0\n",
      "<======>\n",
      "Tag an artist that would kill this beat 🔥👇\n",
      "\n",
      "Spacedtime Type Beat 2023 | “Echo” https://t.co/kvKmGeVPnR\n",
      "Calculated: 0 Actual: 1\n",
      "<======>\n",
      "I'm still curious why there hasn't been an official video for Dreamcatcher \"red sun\" until now? 🤔\n",
      ".\n",
      "In fact, even with poor video quality, there were quite a lot of viewers, 60K viewers 🤔 https://t.co/YhZAdjo2WX\n",
      "Calculated: 1 Actual: 0\n",
      "<======>\n",
      "@RT_com Watch any day we will see BREAKING NEWS: Japan to join NATO 🤣🙄 that's how insane this growth of NATO has become\n",
      "Calculated: 1 Actual: 0\n",
      "<======>\n",
      "My kids are like \" guess whose back?\" I'm like \" the warriors \" they say its shady and im his match ,we are the same in appreciation love sanctuary blah writing, I fkn love them now they're playing im at a payphone by maroon five like ems calling,💀💀💀🖕🖕🖕 🤣🤣🤣🤣🤣😍😍\n",
      "Calculated: 1 Actual: 0\n",
      "<======>\n",
      "@808Homie_7g But he will cancel because of flying objects 🤡🤡\n",
      "Calculated: 1 Actual: 0\n",
      "<======>\n",
      "@syglhs CRIMINAL RECORD😨\n",
      "Calculated: 0 Actual: 1\n",
      "<======>\n",
      "I m feeling so exhausted 👻\n",
      "Calculated: 1 Actual: 0\n",
      "<======>\n",
      "@MacNCheeasy Consuming can only get you so far 🫡\n",
      "Calculated: 1 Actual: 0\n",
      "<======>\n",
      "He’s going to break the bed while fucking me. 😍😍\n",
      "\n",
      "#Spiderman #Spiderman2099 https://t.co/2u4MQKblF0\n",
      "Calculated: 0 Actual: 1\n",
      "<======>\n",
      "@buoymehome Oh bloody hell. Glad your lot are ok ❤️\n",
      "Calculated: 0 Actual: 1\n",
      "<======>\n",
      "😂😍🥰🥹🥳\n",
      "\n",
      "Are there words needed to be said? :)\n",
      "\n",
      "#TOH #TOHSeason3 #tohfinale #TheOwlHouse #TheOwlHouseFinale #TheOwlHosue #TheOwlHouseS3\n",
      "Calculated: 0 Actual: 1\n",
      "<======>\n",
      "@shonshoning i don't have glasses 🥲 i had a few years ago but idk where they are rn and my prescription has DEFINITELY changed so there's no use to find them anyways\n",
      "Calculated: 1 Actual: 0\n",
      "<======>\n",
      "making a whole acc just to say this ??💀💀\n",
      "Calculated: 1 Actual: 0\n",
      "<======>\n",
      "@mh2kofficial @AsdaServiceTeam 🤣🤣 that’s why I said it and you joining the party in a bit?\n",
      "Calculated: 1 Actual: 0\n",
      "<======>\n",
      "nah that goal was pure sex 💀\n",
      "Calculated: 0 Actual: 1\n",
      "<======>\n",
      "@YgD6cCPD9GFo5UD @ackky_FB @Buccaneer_55 これ発表されたとき、以前に流行った蓮コラを思い出して気分悪かったし😨\n",
      "Calculated: 1 Actual: 0\n",
      "<======>\n",
      "@OliLondonTV Lots of these men transition after they have a baby with their partners.\n",
      " 🤔\n",
      "Calculated: 1 Actual: 0\n",
      "<======>\n",
      "@Blacks2015145 @TheDemocrats Fair play, you got me; I didn't twig it was a parody account 👍\n",
      "Calculated: 0 Actual: 1\n",
      "<======>\n",
      "🌹hello, we've been back into studying Japanese again lately so we might just start tweeting in Japanese a bit here and there so if we do just click on the translate tweet button and it'll show you what we're saying lol\n",
      "Calculated: 0 Actual: 1\n",
      "<======>\n",
      "@feyisayoEF It’s like you’re blind 😂🤣🤣…. Do these teams look like they’re on the same level?? It feel like I’m watching Arsenal vs Nottingham forest\n",
      "Calculated: 1 Actual: 0\n",
      "<======>\n",
      "Last day of hell week at work 🥲\n",
      "Calculated: 1 Actual: 0\n",
      "<======>\n",
      "@RetiredManHule Trident is not a weakling either, they'll fight till the end, they might pull up a spoiler 😂\n",
      "Calculated: 0 Actual: 1\n",
      "<======>\n",
      "I took a picture of my son when I picked him up from kindergarten. 🥹 https://t.co/MjvwRGipAv\n",
      "Calculated: 0 Actual: 1\n",
      "<======>\n",
      "@znnboba @znn_edelweiss We don’t even get 10%. They know we can’t survive 10% of their gingering 😭\n",
      "Calculated: 1 Actual: 0\n",
      "<======>\n",
      "@spritzerfolf They wanna go back to eastern Russia 😂\n",
      "Calculated: 1 Actual: 0\n",
      "<======>\n",
      "@matrixreloaded_ I wish I could’ve gone to that class😔\n",
      "Calculated: 1 Actual: 0\n",
      "<======>\n",
      "from 2017 until now, Sungjae still can't tell the difference between It's Okay and Way Back Home 😅🤣\n",
      "Calculated: 0 Actual: 1\n",
      "<======>\n",
      "@roseteils EXTRAÑO MUCHO A LA INNOMBRABLE 😭😭\n",
      "Calculated: 1 Actual: 0\n",
      "<======>\n",
      "@Dame_Time1023 Yeah! Get dame out of Portland! I’m tire of reading this crap! He must be Portlands problem right 🤡\n",
      "Calculated: 1 Actual: 0\n",
      "<======>\n"
     ]
    }
   ],
   "source": [
    "for x in np.where(test_df['Calculated'] != test_df['Actual'])[0]:\n",
    "    print(test_df._get_value(x, 'Text'))\n",
    "    print(\"Calculated:\", test_df._get_value(x, 'Calculated'), \"Actual:\", test_df._get_value(x, 'Actual'))\n",
    "    print(\"<======>\")"
   ]
  },
  {
   "cell_type": "markdown",
   "id": "f27a2b6c-2382-4791-83ec-2eb39b4b32e6",
   "metadata": {},
   "source": [
    "Example of tweets that were labeled as positive and negative - regardless of their actual classifications"
   ]
  },
  {
   "cell_type": "code",
   "execution_count": 37,
   "id": "3f9d4760-2a60-403c-9226-0b5316131143",
   "metadata": {},
   "outputs": [
    {
     "data": {
      "text/plain": [
       "'No more polambalzzz nly positive vibez in my TL hereafter 🤍🧘✨🕊 https://t.co/cZOryIxh0c'"
      ]
     },
     "execution_count": 37,
     "metadata": {},
     "output_type": "execute_result"
    }
   ],
   "source": [
    "labeled_positive_test_tweets[randint(0, len(labeled_positive_test_tweets))]"
   ]
  },
  {
   "cell_type": "code",
   "execution_count": 38,
   "id": "411aac23-4658-4277-8e4a-2fffbf320cbb",
   "metadata": {},
   "outputs": [
    {
     "data": {
      "text/plain": [
       "\"🌹hello, we've been back into studying Japanese again lately so we might just start tweeting in Japanese a bit here and there so if we do just click on the translate tweet button and it'll show you what we're saying lol\""
      ]
     },
     "execution_count": 38,
     "metadata": {},
     "output_type": "execute_result"
    }
   ],
   "source": [
    "labeled_negative_test_tweets[randint(0, len(labeled_negative_test_tweets))]"
   ]
  },
  {
   "cell_type": "markdown",
   "id": "f3cfeea4-9fee-45ed-bcb0-783df078cec8",
   "metadata": {},
   "source": [
    "## Testing Text With One Emoji"
   ]
  },
  {
   "cell_type": "code",
   "execution_count": 46,
   "id": "c41e7dd1-573a-4bcc-a29f-b7b860e531ac",
   "metadata": {},
   "outputs": [],
   "source": [
    "labeled['Combined'] = labeled['Text'] + ' ' + labeled['Emoji']"
   ]
  },
  {
   "cell_type": "code",
   "execution_count": 47,
   "id": "78d1be3b-6e28-4a4c-a2ec-90f06a6a65a1",
   "metadata": {},
   "outputs": [
    {
     "data": {
      "text/plain": [
       "(688, 172, 688, 172)"
      ]
     },
     "execution_count": 47,
     "metadata": {},
     "output_type": "execute_result"
    }
   ],
   "source": [
    "X_train, X_test, y_train, y_test = train_test_split(labeled['Combined'],\n",
    "                                                    labeled['Sentiment'],\n",
    "                                                    test_size=0.2,\n",
    "                                                    random_state=123)\n",
    "\n",
    "len(X_train), len(X_test), len(y_train), len(y_test)"
   ]
  },
  {
   "cell_type": "code",
   "execution_count": 48,
   "id": "94f48de9-37b6-40bd-8c0e-ecb11c25c1de",
   "metadata": {},
   "outputs": [],
   "source": [
    "import re\n",
    "import string\n",
    "import emoji\n",
    "\n",
    "from nltk.corpus import stopwords\n",
    "from nltk.stem import PorterStemmer\n",
    "from nltk.tokenize import TweetTokenizer\n",
    "\n",
    "def process_tweet(tweet):\n",
    "    \"\"\"Input: tweet a string containing a tweet\n",
    "    Return:\n",
    "    tweets_clean: a list of words containing the processed tweet\n",
    "    \"\"\"\n",
    "    # remove stock market tickers like $GE\n",
    "    tweet = re.sub(r'\\$\\w*', '', tweet)\n",
    "    \n",
    "    # remove retweet text \"RT\"\n",
    "    tweet = re.sub(r'^RT[\\s]+', '', tweet)\n",
    "    \n",
    "    # remove hyperlinks\n",
    "    tweet = re.sub(r'https?:\\/\\/.*[\\r\\n]*', '', tweet)\n",
    "    \n",
    "    # remove hashtags\n",
    "    tweet = re.sub(r'#', '', tweet)\n",
    "    \n",
    "    # Instantiate stemmer class\n",
    "    stemmer = PorterStemmer()\n",
    "    \n",
    "    # Create stopwords list\n",
    "    stopwords_english = stopwords.words('english')\n",
    "    \n",
    "    # Tokenize tweets\n",
    "    tokenizer = TweetTokenizer(preserve_case=False, strip_handles=True, reduce_len=True)\n",
    "    \n",
    "    # Tokenize the tweets\n",
    "    tweet_tokens = tokenizer.tokenize(tweet)\n",
    "    \n",
    "    tweets_clean = []\n",
    "    for word in tweet_tokens:\n",
    "        word = emoji.replace_emoji(word, '')\n",
    "        #if emoji.is_emoji(word):\n",
    "            #tweets_clean.append(word)\n",
    "        if (word not in stopwords_english and word not in string.punctuation and word != '’' and \n",
    "            (word.isalpha() or \"_\" in word)):\n",
    "            stem_word = stemmer.stem(word)\n",
    "            tweets_clean.append(stem_word)\n",
    "    return tweets_clean"
   ]
  },
  {
   "cell_type": "code",
   "execution_count": 49,
   "id": "9af27819-9e2b-42ca-8f84-005e8b1f291b",
   "metadata": {},
   "outputs": [],
   "source": [
    "## Let's create a dictionary of words and their frequencies\n",
    "def count_tweets(result, tweets, ys):\n",
    "    \"\"\"Input:\n",
    "    result: a dictionary that will contain the frequency of each pair (word, label)\n",
    "    tweets: a list of tweets\n",
    "    ys: an m x 1 array with the sentiment label of each tweet (either 0 or 1)\n",
    "    \"\"\"\n",
    "    # iterate through each tweet and its label\n",
    "    for y, tweet in zip(ys, tweets):\n",
    "        # process the tweet to get the words in the form of a list\n",
    "        for word in process_tweet(tweet):\n",
    "            # increment the word count for the pair (word, label)\n",
    "            pair = (word, y)\n",
    "            if pair in result:\n",
    "                result[pair] += 1\n",
    "            else:\n",
    "                result[pair] = 1\n",
    "    return result"
   ]
  },
  {
   "cell_type": "code",
   "execution_count": 50,
   "id": "12b83b26-9df8-4013-b0f4-2fb4f853fa9d",
   "metadata": {},
   "outputs": [],
   "source": [
    "freqs = count_tweets({}, X_train, y_train)"
   ]
  },
  {
   "cell_type": "code",
   "execution_count": 51,
   "id": "61aa3cab-0a15-4b4b-a438-93038f28f9f4",
   "metadata": {},
   "outputs": [],
   "source": [
    "## Let's create a function to extract the features from the tweets\n",
    "\n",
    "def naive_bayes(freqs, X_train, y_train):\n",
    "    \"\"\"Train a Naive Bayes classifier on twitter data.\n",
    "\n",
    "    Args:\n",
    "        freqs (dict): dictionary of (word, label): frequency pairs\n",
    "        X_train (list): list of tweets\n",
    "        y_train (list): list of tweets\n",
    "        \n",
    "    returns:\n",
    "    logprior (float): log prior\n",
    "    loglikelihood (dict): dictionary of (word, label): log likelihood pairs\n",
    "    \"\"\"\n",
    "    ## Compare the code here with Jurafsky and Martin's pseudocode\n",
    "    \n",
    "    loglikelihood = {}\n",
    "    logprior = 0\n",
    "    \n",
    "    vocab = set([pair[0] for pair in freqs.keys()]) # words in the vocabulary\n",
    "    V = len(vocab) # number of unique words in the vocabulary\n",
    "    \n",
    "    # Calculate N_pos and N_neg tweets (number of positive and negative tweets)\n",
    "    N_pos, N_neg = 0, 0 # number of positive and negative tweets\n",
    "    \n",
    "    # Calculate the number of positive and negative tweets\n",
    "    for pair in freqs.keys():\n",
    "        # positive tweets\n",
    "        if pair[1] > 0:\n",
    "            N_pos += freqs[pair]\n",
    "        # negative tweets\n",
    "        else:\n",
    "            N_neg += freqs[pair]\n",
    "    \n",
    "    # Documents = total number of tweets\n",
    "    D = len(X_train)\n",
    "    \n",
    "    # Calculate # of positive and negative documents\n",
    "    D_pos = np.sum(y_train)\n",
    "    D_neg = D - D_pos\n",
    "    \n",
    "    logprior = np.log(D_pos) - np.log(D_neg)\n",
    "    \n",
    "    for word in vocab:\n",
    "        \n",
    "        freq_pos = freqs.get((word, 1.0), 0)\n",
    "        freq_neg = freqs.get((word, 0.0), 0)\n",
    "        \n",
    "        p_w_pos = (freq_pos + 1) / (N_pos + V)\n",
    "        p_w_neg = (freq_neg + 1) / (N_neg + V)\n",
    "        \n",
    "        loglikelihood[word] = np.log(p_w_pos / p_w_neg)\n",
    "    \n",
    "    return logprior, loglikelihood"
   ]
  },
  {
   "cell_type": "code",
   "execution_count": 52,
   "id": "5efdbe19-ecb3-4562-8433-e8ec99e6c505",
   "metadata": {},
   "outputs": [],
   "source": [
    "logprior, loglikelihood = naive_bayes(freqs, X_train, y_train)"
   ]
  },
  {
   "cell_type": "code",
   "execution_count": 53,
   "id": "63d897da-19cd-4609-ba1a-32add8f059bc",
   "metadata": {},
   "outputs": [],
   "source": [
    "def predict_naive_bayes(tweet, logprior, loglikelihood):\n",
    "    \"\"\"Input:\n",
    "    tweet: a string\n",
    "    logprior: a number\n",
    "    loglikelihood: a dictionary of words mapping to numbers\n",
    "    Output:\n",
    "    p: the sum of all the logliklihoods of each word in the tweet (if found in the dictionary) + logprior (a number)\n",
    "    \"\"\"\n",
    "    word_l = process_tweet(tweet)\n",
    "    \n",
    "    p = 0\n",
    "    p += logprior\n",
    "    \n",
    "    for word in word_l:\n",
    "        if word in loglikelihood:\n",
    "            p += loglikelihood[word]\n",
    "    \n",
    "    return p"
   ]
  },
  {
   "cell_type": "code",
   "execution_count": 54,
   "id": "d4ce3292-764a-440e-8bc7-fa4c54e71a3e",
   "metadata": {},
   "outputs": [],
   "source": [
    "labeled_positive_test_tweets = []\n",
    "labeled_negative_test_tweets = []\n",
    "test_df = pd.DataFrame(columns = ['Text', 'Calculated', 'Actual'])"
   ]
  },
  {
   "cell_type": "code",
   "execution_count": 55,
   "id": "bd181605-c128-47a7-acf3-a896297bd801",
   "metadata": {},
   "outputs": [],
   "source": [
    "def test_naive_bayes(X_test, y_test, logprior, loglikelihood, labeled_positive_test_tweets,\n",
    "    labeled_negative_test_tweets):\n",
    "    \"\"\"Input:\n",
    "    X_test: a list of tweets\n",
    "    y_test: (m, 1) array with the sentiment label of each tweet (either 0 or 1)\n",
    "    logprior: a number\n",
    "    loglikelihood: a dictionary of words mapping to numbers\n",
    "    Output:\n",
    "    accuracy: (# of tweets classified correctly) / (total # of tweets)\n",
    "    \"\"\"\n",
    "    \n",
    "    # Let's score the accuracy of our model\n",
    "    accuracy = 0\n",
    "    \n",
    "    # Our predictions will be stored in y_hat\n",
    "    y_hat = []\n",
    "    index1 = 0\n",
    "    for tweet in X_test:\n",
    "        index = labeled.index[labeled['Combined'] == tweet].tolist()[0]\n",
    "        actual = labeled._get_value(index, 'Sentiment')\n",
    "        #print(index, actual)\n",
    "        if predict_naive_bayes(tweet, logprior, loglikelihood) > 0:\n",
    "            y_hat.append(1)\n",
    "            labeled_positive_test_tweets.append(tweet)\n",
    "            test_df.loc[index1] = pd.Series({'Text':tweet, 'Calculated':1, 'Actual':actual})\n",
    "        else:\n",
    "            y_hat.append(0)\n",
    "            labeled_negative_test_tweets.append(tweet)\n",
    "            test_df.loc[index1] = pd.Series({'Text':tweet, 'Calculated':0, 'Actual':actual})\n",
    "        index1 = index1 + 1\n",
    "    \n",
    "    # error is the average of the absolute values of the differences between y_hat and y_test\n",
    "    error = np.mean(np.abs(y_hat - y_test))\n",
    "    \n",
    "    accuracy = 1 - error\n",
    "    \n",
    "    return accuracy"
   ]
  },
  {
   "cell_type": "code",
   "execution_count": 56,
   "id": "5c1f9e8a-ffda-4d1e-8d08-b719551c591c",
   "metadata": {},
   "outputs": [
    {
     "name": "stdout",
     "output_type": "stream",
     "text": [
      "Naive Bayes accuracy = 0.784884\n"
     ]
    }
   ],
   "source": [
    "print(\"Naive Bayes accuracy = %f\" % test_naive_bayes(X_test, y_test, logprior, loglikelihood, labeled_positive_test_tweets,\n",
    "    labeled_negative_test_tweets))"
   ]
  },
  {
   "cell_type": "markdown",
   "id": "cd797e40-75b4-443d-a360-3b8c3f20ce3d",
   "metadata": {},
   "source": [
    "All of the misclassified tweets:"
   ]
  },
  {
   "cell_type": "code",
   "execution_count": 57,
   "id": "44ee84fe-5b72-4595-acba-a79fc9708295",
   "metadata": {},
   "outputs": [
    {
     "name": "stdout",
     "output_type": "stream",
     "text": [
      "@ethy_yopi @AishaDaughter Sis I totally agree, that’s why I love the rural parts of Africa where the ppl haven’t been corrupted by European stands of beauty……\n",
      "\n",
      "These kinda list don’t help African women at all, they just cause more damage &amp; insecurities bc of where they come on these stupid list.😤😡😡 enraged_face\n",
      "Calculated: 1 Actual: 0\n",
      "<======>\n",
      "instead of reading the near constant negativity both in the tl and in my dm’s - im gonna log off for the rest of the weekend 😵‍💫😶🫠 \n",
      "\n",
      "pls keep streaming for yoonmin! \n",
      "https://t.co/kdfwMP1ZWL https://t.co/vJXMmGEzjv melting_face\n",
      "Calculated: 1 Actual: 0\n",
      "<======>\n",
      "This is what inspires me to go out and get ppl to register to vote. Ain’t no way I’m going to listen to 4 years of trump having a platform to call a grievance press conference every damn day. #Imsickofallthisshit🙄😡 enraged_face\n",
      "Calculated: 0 Actual: 1\n",
      "<======>\n",
      "@ReallyAceryl i haven’t been keeping up with this who’s been harassing my nandor 😤😤😤😤 face_with_steam_from_nose\n",
      "Calculated: 1 Actual: 0\n",
      "<======>\n",
      "@JonJacks_ @shannonsharpeee Though his reaction was overboard I get it. Still, as a parent of either child it would have been very difficult not to crack tf up…😂 sparkles\n",
      "Calculated: 0 Actual: 1\n",
      "<======>\n",
      "@realbbymula Put that 💩 💵 🤣🤣😂straight in my pocket pile_of_poo\n",
      "Calculated: 0 Actual: 1\n",
      "<======>\n",
      "@lerry_mol @PrimusIntrapare @BadonB You've found your voices. 💀 skull\n",
      "Calculated: 1 Actual: 0\n",
      "<======>\n",
      "Gabriel Jesus is actually working on Liverpool fans😂😂😂😂 face_with_tears_of_joy\n",
      "Calculated: 0 Actual: 1\n",
      "<======>\n",
      "@SpecsSol Ofc they let it happen if it’s frank is that a question 🤣🤣🤣 rolling_on_the_floor_laughing\n",
      "Calculated: 1 Actual: 0\n",
      "<======>\n",
      "@Zoyablooms yuppp. he’s been in a few dramas and bls. you probably know him from the bls. that’s kim jiwoong, the person on boys planet that i’ve been fighting and voting for on these streets. 🫠 melting_face\n",
      "Calculated: 0 Actual: 1\n",
      "<======>\n",
      "OHIO STATE!!! 💪💪💪\n",
      "\n",
      "How bout them Buckeyes @richeisen 😂😂😂\n",
      "\n",
      "And a big f*** you to @ColinCowherd who constantly bad about OSU 🖕🖕🖕\n",
      "\n",
      "#Buckeyes \n",
      "#NFL \n",
      "#NFLDraft \n",
      "#NFLDraft2023 middle_finger\n",
      "Calculated: 0 Actual: 1\n",
      "<======>\n",
      "@filmhelvar i would love to but also have no time right now because of finals szn 😭 loudly_crying_face\n",
      "Calculated: 1 Actual: 0\n",
      "<======>\n",
      "@HailEternal Lmao the irony behind that post. The fact that the rainbow represents peace in the Bible and they’re reflecting that peace is insane 💀 skull\n",
      "Calculated: 0 Actual: 1\n",
      "<======>\n",
      "@LisaJoh61770094 I don't think that's enough to buy gas to get to the salon. 🤣🤣🤣🤣🤣🤣 rolling_on_the_floor_laughing\n",
      "Calculated: 1 Actual: 0\n",
      "<======>\n",
      "@NotFancy_ I'll loose faith in love if I don't have hope for them 😭 loudly_crying_face\n",
      "Calculated: 1 Actual: 0\n",
      "<======>\n",
      "@Slic_Ric1 Lol there’s nothing wrong with being moist🤣 rolling_on_the_floor_laughing\n",
      "Calculated: 0 Actual: 1\n",
      "<======>\n",
      "If you want to understand world politics then just imagine Star Wars, with Sith and Jedi, except they switch sides routinely, don’t have lightsabers or finger-lightning, and are good buddies behind the scenes 😇🤝😈 https://t.co/tiMJ5YAWJc smiling_face_with_halo\n",
      "Calculated: 0 Actual: 1\n",
      "<======>\n",
      "Ppl at my job always assume that I don’t have any children 😅 y’all my son is 5 I’m not new to the game grinning_face_with_sweat\n",
      "Calculated: 1 Actual: 0\n",
      "<======>\n",
      "Tag an artist that would kill this beat 🔥👇\n",
      "\n",
      "Spacedtime Type Beat 2023 | “Echo” https://t.co/kvKmGeVPnR fire\n",
      "Calculated: 0 Actual: 1\n",
      "<======>\n",
      "I'm still curious why there hasn't been an official video for Dreamcatcher \"red sun\" until now? 🤔\n",
      ".\n",
      "In fact, even with poor video quality, there were quite a lot of viewers, 60K viewers 🤔 https://t.co/YhZAdjo2WX thinking_face\n",
      "Calculated: 1 Actual: 0\n",
      "<======>\n",
      "@RT_com Watch any day we will see BREAKING NEWS: Japan to join NATO 🤣🙄 that's how insane this growth of NATO has become rolling_on_the_floor_laughing\n",
      "Calculated: 1 Actual: 0\n",
      "<======>\n",
      "My kids are like \" guess whose back?\" I'm like \" the warriors \" they say its shady and im his match ,we are the same in appreciation love sanctuary blah writing, I fkn love them now they're playing im at a payphone by maroon five like ems calling,💀💀💀🖕🖕🖕 🤣🤣🤣🤣🤣😍😍 middle_finger\n",
      "Calculated: 1 Actual: 0\n",
      "<======>\n",
      "@syglhs CRIMINAL RECORD😨 fearful_face\n",
      "Calculated: 0 Actual: 1\n",
      "<======>\n",
      "I m feeling so exhausted 👻 ghost\n",
      "Calculated: 1 Actual: 0\n",
      "<======>\n",
      "@MacNCheeasy Consuming can only get you so far 🫡 saluting_face\n",
      "Calculated: 1 Actual: 0\n",
      "<======>\n",
      "Maybe I can have a beer bong competition? 👀 maybe. eyes\n",
      "Calculated: 0 Actual: 1\n",
      "<======>\n",
      "He’s going to break the bed while fucking me. 😍😍\n",
      "\n",
      "#Spiderman #Spiderman2099 https://t.co/2u4MQKblF0 smiling_face_with_heart-eyes\n",
      "Calculated: 0 Actual: 1\n",
      "<======>\n",
      "i may actually be crazy 😇 smiling_face_with_halo\n",
      "Calculated: 1 Actual: 0\n",
      "<======>\n",
      "@shonshoning i don't have glasses 🥲 i had a few years ago but idk where they are rn and my prescription has DEFINITELY changed so there's no use to find them anyways smiling_face_with_tear\n",
      "Calculated: 1 Actual: 0\n",
      "<======>\n",
      "nah that goal was pure sex 💀 skull\n",
      "Calculated: 0 Actual: 1\n",
      "<======>\n",
      "@feyisayoEF It’s like you’re blind 😂🤣🤣…. Do these teams look like they’re on the same level?? It feel like I’m watching Arsenal vs Nottingham forest face_with_tears_of_joy\n",
      "Calculated: 1 Actual: 0\n",
      "<======>\n",
      "Last day of hell week at work 🥲 smiling_face_with_tear\n",
      "Calculated: 1 Actual: 0\n",
      "<======>\n",
      "I took a picture of my son when I picked him up from kindergarten. 🥹 https://t.co/MjvwRGipAv face_holding_back_tears\n",
      "Calculated: 0 Actual: 1\n",
      "<======>\n",
      "@znnboba @znn_edelweiss We don’t even get 10%. They know we can’t survive 10% of their gingering 😭 egg\n",
      "Calculated: 1 Actual: 0\n",
      "<======>\n",
      "@spritzerfolf They wanna go back to eastern Russia 😂 backhand_index_pointing_right\n",
      "Calculated: 1 Actual: 0\n",
      "<======>\n",
      "@matrixreloaded_ I wish I could’ve gone to that class😔 middle_finger\n",
      "Calculated: 1 Actual: 0\n",
      "<======>\n",
      "from 2017 until now, Sungjae still can't tell the difference between It's Okay and Way Back Home 😅🤣 grinning_face_with_sweat\n",
      "Calculated: 0 Actual: 1\n",
      "<======>\n"
     ]
    }
   ],
   "source": [
    "for x in np.where(test_df['Calculated'] != test_df['Actual'])[0]:\n",
    "    print(test_df._get_value(x, 'Text'))\n",
    "    print(\"Calculated:\", test_df._get_value(x, 'Calculated'), \"Actual:\", test_df._get_value(x, 'Actual'))\n",
    "    print(\"<======>\")"
   ]
  },
  {
   "cell_type": "markdown",
   "id": "d2a4d5cd-0d65-4206-8da5-e225b02f7fa0",
   "metadata": {},
   "source": [
    "Examples of positive and negatively labeled tweets - regardless of their actual classification."
   ]
  },
  {
   "cell_type": "code",
   "execution_count": 58,
   "id": "35eacb74-167d-4887-9612-f7727dec951e",
   "metadata": {},
   "outputs": [
    {
     "data": {
      "text/plain": [
       "\"ada balon², it's time for me to buy a cake for myself😋 face_savoring_food\""
      ]
     },
     "execution_count": 58,
     "metadata": {},
     "output_type": "execute_result"
    }
   ],
   "source": [
    "labeled_positive_test_tweets[randint(0, len(labeled_positive_test_tweets))]"
   ]
  },
  {
   "cell_type": "code",
   "execution_count": 59,
   "id": "e5a4c5ab-3c0c-475b-8e23-dfd36b801331",
   "metadata": {},
   "outputs": [
    {
     "data": {
      "text/plain": [
       "'@CNN And, just like that #CNN to the rescue! 🖕🖕 middle_finger'"
      ]
     },
     "execution_count": 59,
     "metadata": {},
     "output_type": "execute_result"
    }
   ],
   "source": [
    "labeled_negative_test_tweets[randint(0, len(labeled_negative_test_tweets))]"
   ]
  },
  {
   "cell_type": "markdown",
   "id": "00404810-8ff5-4f22-bb30-d21505dc19ed",
   "metadata": {},
   "source": [
    "## Testing Text With All Emojis"
   ]
  },
  {
   "cell_type": "code",
   "execution_count": 55,
   "id": "b622bfe3-e9c3-430c-8669-5cfa3e3e96dd",
   "metadata": {},
   "outputs": [
    {
     "data": {
      "text/plain": [
       "(688, 172, 688, 172)"
      ]
     },
     "execution_count": 55,
     "metadata": {},
     "output_type": "execute_result"
    }
   ],
   "source": [
    "X_train, X_test, y_train, y_test = train_test_split(labeled['Text'],\n",
    "                                                    labeled['Sentiment'],\n",
    "                                                    test_size=0.2,\n",
    "                                                    random_state=123)\n",
    "\n",
    "len(X_train), len(X_test), len(y_train), len(y_test)"
   ]
  },
  {
   "cell_type": "code",
   "execution_count": 56,
   "id": "93f49c74-0bd0-4cd1-9e01-b94a96fff8e5",
   "metadata": {},
   "outputs": [],
   "source": [
    "import re\n",
    "import string\n",
    "import emoji\n",
    "\n",
    "from nltk.corpus import stopwords\n",
    "from nltk.stem import PorterStemmer\n",
    "from nltk.tokenize import TweetTokenizer\n",
    "\n",
    "def process_tweet(tweet):\n",
    "    \"\"\"Input: tweet a string containing a tweet\n",
    "    Return:\n",
    "    tweets_clean: a list of words containing the processed tweet\n",
    "    \"\"\"\n",
    "    # remove stock market tickers like $GE\n",
    "    tweet = re.sub(r'\\$\\w*', '', tweet)\n",
    "    \n",
    "    # remove retweet text \"RT\"\n",
    "    tweet = re.sub(r'^RT[\\s]+', '', tweet)\n",
    "    \n",
    "    # remove hyperlinks\n",
    "    tweet = re.sub(r'https?:\\/\\/.*[\\r\\n]*', '', tweet)\n",
    "    \n",
    "    # remove hashtags\n",
    "    tweet = re.sub(r'#', '', tweet)\n",
    "    \n",
    "    # Instantiate stemmer class\n",
    "    stemmer = PorterStemmer()\n",
    "    \n",
    "    # Create stopwords list\n",
    "    stopwords_english = stopwords.words('english')\n",
    "    \n",
    "    # Tokenize tweets\n",
    "    tokenizer = TweetTokenizer(preserve_case=False, strip_handles=True, reduce_len=True)\n",
    "    \n",
    "    # Tokenize the tweets\n",
    "    tweet_tokens = tokenizer.tokenize(tweet)\n",
    "    \n",
    "    tweets_clean = []\n",
    "    for word in tweet_tokens:\n",
    "        #word = emoji.replace_emoji(word, '')\n",
    "        if emoji.is_emoji(word):\n",
    "            tweets_clean.append(word)\n",
    "        if (word not in stopwords_english and word not in string.punctuation and word != '’' and \n",
    "            (word.isalpha() or \"_\" in word)):\n",
    "            stem_word = stemmer.stem(word)\n",
    "            tweets_clean.append(stem_word)\n",
    "    return tweets_clean"
   ]
  },
  {
   "cell_type": "code",
   "execution_count": 57,
   "id": "a0a78524-2d68-4348-aa9c-09268481dfc7",
   "metadata": {},
   "outputs": [],
   "source": [
    "## Let's create a dictionary of words and their frequencies\n",
    "def count_tweets(result, tweets, ys):\n",
    "    \"\"\"Input:\n",
    "    result: a dictionary that will contain the frequency of each pair (word, label)\n",
    "    tweets: a list of tweets\n",
    "    ys: an m x 1 array with the sentiment label of each tweet (either 0 or 1)\n",
    "    \"\"\"\n",
    "    # iterate through each tweet and its label\n",
    "    for y, tweet in zip(ys, tweets):\n",
    "        # process the tweet to get the words in the form of a list\n",
    "        for word in process_tweet(tweet):\n",
    "            # increment the word count for the pair (word, label)\n",
    "            pair = (word, y)\n",
    "            if pair in result:\n",
    "                result[pair] += 1\n",
    "            else:\n",
    "                result[pair] = 1\n",
    "    return result"
   ]
  },
  {
   "cell_type": "code",
   "execution_count": 58,
   "id": "ed3c5fdb-975a-4951-8d07-a6c202355406",
   "metadata": {},
   "outputs": [],
   "source": [
    "freqs = count_tweets({}, X_train, y_train)"
   ]
  },
  {
   "cell_type": "code",
   "execution_count": 59,
   "id": "a498a0f8-5e3d-43fb-a481-c42ffb8d03a2",
   "metadata": {},
   "outputs": [],
   "source": [
    "## Let's create a function to extract the features from the tweets\n",
    "\n",
    "def naive_bayes(freqs, X_train, y_train):\n",
    "    \"\"\"Train a Naive Bayes classifier on twitter data.\n",
    "\n",
    "    Args:\n",
    "        freqs (dict): dictionary of (word, label): frequency pairs\n",
    "        X_train (list): list of tweets\n",
    "        y_train (list): list of tweets\n",
    "        \n",
    "    returns:\n",
    "    logprior (float): log prior\n",
    "    loglikelihood (dict): dictionary of (word, label): log likelihood pairs\n",
    "    \"\"\"\n",
    "    ## Compare the code here with Jurafsky and Martin's pseudocode\n",
    "    \n",
    "    loglikelihood = {}\n",
    "    logprior = 0\n",
    "    \n",
    "    vocab = set([pair[0] for pair in freqs.keys()]) # words in the vocabulary\n",
    "    V = len(vocab) # number of unique words in the vocabulary\n",
    "    \n",
    "    # Calculate N_pos and N_neg tweets (number of positive and negative tweets)\n",
    "    N_pos, N_neg = 0, 0 # number of positive and negative tweets\n",
    "    \n",
    "    # Calculate the number of positive and negative tweets\n",
    "    for pair in freqs.keys():\n",
    "        # positive tweets\n",
    "        if pair[1] > 0:\n",
    "            N_pos += freqs[pair]\n",
    "        # negative tweets\n",
    "        else:\n",
    "            N_neg += freqs[pair]\n",
    "    \n",
    "    # Documents = total number of tweets\n",
    "    D = len(X_train)\n",
    "    \n",
    "    # Calculate # of positive and negative documents\n",
    "    D_pos = np.sum(y_train)\n",
    "    D_neg = D - D_pos\n",
    "    \n",
    "    logprior = np.log(D_pos) - np.log(D_neg)\n",
    "    \n",
    "    for word in vocab:\n",
    "        \n",
    "        freq_pos = freqs.get((word, 1.0), 0)\n",
    "        freq_neg = freqs.get((word, 0.0), 0)\n",
    "        \n",
    "        p_w_pos = (freq_pos + 1) / (N_pos + V)\n",
    "        p_w_neg = (freq_neg + 1) / (N_neg + V)\n",
    "        \n",
    "        loglikelihood[word] = np.log(p_w_pos / p_w_neg)\n",
    "    \n",
    "    return logprior, loglikelihood"
   ]
  },
  {
   "cell_type": "code",
   "execution_count": 60,
   "id": "374149ee-605b-4d81-9b78-14a55d832964",
   "metadata": {},
   "outputs": [],
   "source": [
    "logprior, loglikelihood = naive_bayes(freqs, X_train, y_train)"
   ]
  },
  {
   "cell_type": "code",
   "execution_count": 61,
   "id": "2df8fb51-4996-43d1-8b3d-08a86045977a",
   "metadata": {},
   "outputs": [],
   "source": [
    "def predict_naive_bayes(tweet, logprior, loglikelihood):\n",
    "    \"\"\"Input:\n",
    "    tweet: a string\n",
    "    logprior: a number\n",
    "    loglikelihood: a dictionary of words mapping to numbers\n",
    "    Output:\n",
    "    p: the sum of all the logliklihoods of each word in the tweet (if found in the dictionary) + logprior (a number)\n",
    "    \"\"\"\n",
    "    word_l = process_tweet(tweet)\n",
    "    \n",
    "    p = 0\n",
    "    p += logprior\n",
    "    \n",
    "    for word in word_l:\n",
    "        if word in loglikelihood:\n",
    "            p += loglikelihood[word]\n",
    "    \n",
    "    return p"
   ]
  },
  {
   "cell_type": "code",
   "execution_count": 62,
   "id": "3058d037-eefb-44f8-855c-7dd449f090e7",
   "metadata": {},
   "outputs": [],
   "source": [
    "labeled_positive_test_tweets = []\n",
    "labeled_negative_test_tweets = []\n",
    "test_df = pd.DataFrame(columns = ['Text', 'Calculated', 'Actual'])"
   ]
  },
  {
   "cell_type": "code",
   "execution_count": 63,
   "id": "2daf62f8-3c96-4237-95ea-8df605b68427",
   "metadata": {},
   "outputs": [],
   "source": [
    "def test_naive_bayes(X_test, y_test, logprior, loglikelihood, labeled_positive_test_tweets,\n",
    "    labeled_negative_test_tweets):\n",
    "    \"\"\"Input:\n",
    "    X_test: a list of tweets\n",
    "    y_test: (m, 1) array with the sentiment label of each tweet (either 0 or 1)\n",
    "    logprior: a number\n",
    "    loglikelihood: a dictionary of words mapping to numbers\n",
    "    Output:\n",
    "    accuracy: (# of tweets classified correctly) / (total # of tweets)\n",
    "    \"\"\"\n",
    "    \n",
    "    # Let's score the accuracy of our model\n",
    "    accuracy = 0\n",
    "    \n",
    "    # Our predictions will be stored in y_hat\n",
    "    y_hat = []\n",
    "    index1 = 0\n",
    "    for tweet in X_test:\n",
    "        index = np.where(labeled['Text'] == tweet)[0][0]\n",
    "        #print(index)\n",
    "        actual = labeled._get_value(index, 'Sentiment')\n",
    "        #print(index, actual)\n",
    "        if predict_naive_bayes(tweet, logprior, loglikelihood) > 0:\n",
    "            y_hat.append(1)\n",
    "            labeled_positive_test_tweets.append(tweet)\n",
    "            test_df.loc[index1] = pd.Series({'Text':tweet, 'Calculated':1, 'Actual':actual})\n",
    "        else:\n",
    "            y_hat.append(0)\n",
    "            labeled_negative_test_tweets.append(tweet)\n",
    "            test_df.loc[index1] = pd.Series({'Text':tweet, 'Calculated':0, 'Actual':actual})\n",
    "        index1 = index1 + 1\n",
    "    \n",
    "    # error is the average of the absolute values of the differences between y_hat and y_test\n",
    "    error = np.mean(np.abs(y_hat - y_test))\n",
    "    \n",
    "    accuracy = 1 - error\n",
    "    \n",
    "    return accuracy"
   ]
  },
  {
   "cell_type": "code",
   "execution_count": 64,
   "id": "ddea0985-bee1-41c7-9ac4-97e6ea21f7c7",
   "metadata": {},
   "outputs": [
    {
     "name": "stdout",
     "output_type": "stream",
     "text": [
      "Naive Bayes accuracy = 0.802326\n"
     ]
    }
   ],
   "source": [
    "print(\"Naive Bayes accuracy = %f\" % test_naive_bayes(X_test, y_test, logprior, loglikelihood, labeled_positive_test_tweets,\n",
    "    labeled_negative_test_tweets))"
   ]
  },
  {
   "cell_type": "markdown",
   "id": "62477e8b-3ab0-474a-a3b7-c2af71be99c4",
   "metadata": {},
   "source": [
    "All of the misclassified tweets:"
   ]
  },
  {
   "cell_type": "code",
   "execution_count": 66,
   "id": "57963e6d-dedd-43d5-b9db-d03efe2b475b",
   "metadata": {},
   "outputs": [
    {
     "name": "stdout",
     "output_type": "stream",
     "text": [
      "instead of reading the near constant negativity both in the tl and in my dm’s - im gonna log off for the rest of the weekend 😵‍💫😶🫠 \n",
      "\n",
      "pls keep streaming for yoonmin! \n",
      "https://t.co/kdfwMP1ZWL https://t.co/vJXMmGEzjv\n",
      "Calculated: 1 Actual: 0\n",
      "<======>\n",
      "This is what inspires me to go out and get ppl to register to vote. Ain’t no way I’m going to listen to 4 years of trump having a platform to call a grievance press conference every damn day. #Imsickofallthisshit🙄😡\n",
      "Calculated: 0 Actual: 1\n",
      "<======>\n",
      "@JonJacks_ @shannonsharpeee Though his reaction was overboard I get it. Still, as a parent of either child it would have been very difficult not to crack tf up…😂\n",
      "Calculated: 0 Actual: 1\n",
      "<======>\n",
      "begins singing cupids chokehold will this make you forgive me @tenebricosam 😨😨\n",
      "Calculated: 0 Actual: 1\n",
      "<======>\n",
      "@realbbymula Put that 💩 💵 🤣🤣😂straight in my pocket\n",
      "Calculated: 0 Actual: 1\n",
      "<======>\n",
      "@lerry_mol @PrimusIntrapare @BadonB You've found your voices. 💀\n",
      "Calculated: 1 Actual: 0\n",
      "<======>\n",
      "@lvcilvr @Luffycore_ ONG ILL BUY THE BESTEST GUFT EVER AND IMA HAVE THE CUTEST RED DRESS ILL SLAY 😝😝\n",
      "Calculated: 0 Actual: 1\n",
      "<======>\n",
      "Gabriel Jesus is actually working on Liverpool fans😂😂😂😂\n",
      "Calculated: 0 Actual: 1\n",
      "<======>\n",
      "@Zoyablooms yuppp. he’s been in a few dramas and bls. you probably know him from the bls. that’s kim jiwoong, the person on boys planet that i’ve been fighting and voting for on these streets. 🫠\n",
      "Calculated: 0 Actual: 1\n",
      "<======>\n",
      "OHIO STATE!!! 💪💪💪\n",
      "\n",
      "How bout them Buckeyes @richeisen 😂😂😂\n",
      "\n",
      "And a big f*** you to @ColinCowherd who constantly bad about OSU 🖕🖕🖕\n",
      "\n",
      "#Buckeyes \n",
      "#NFL \n",
      "#NFLDraft \n",
      "#NFLDraft2023\n",
      "Calculated: 0 Actual: 1\n",
      "<======>\n",
      "@filmhelvar i would love to but also have no time right now because of finals szn 😭\n",
      "Calculated: 1 Actual: 0\n",
      "<======>\n",
      "@HailEternal Lmao the irony behind that post. The fact that the rainbow represents peace in the Bible and they’re reflecting that peace is insane 💀\n",
      "Calculated: 0 Actual: 1\n",
      "<======>\n",
      "@LisaJoh61770094 I don't think that's enough to buy gas to get to the salon. 🤣🤣🤣🤣🤣🤣\n",
      "Calculated: 1 Actual: 0\n",
      "<======>\n",
      "@NotFancy_ I'll loose faith in love if I don't have hope for them 😭\n",
      "Calculated: 1 Actual: 0\n",
      "<======>\n",
      "@Slic_Ric1 Lol there’s nothing wrong with being moist🤣\n",
      "Calculated: 0 Actual: 1\n",
      "<======>\n",
      "If you want to understand world politics then just imagine Star Wars, with Sith and Jedi, except they switch sides routinely, don’t have lightsabers or finger-lightning, and are good buddies behind the scenes 😇🤝😈 https://t.co/tiMJ5YAWJc\n",
      "Calculated: 0 Actual: 1\n",
      "<======>\n",
      "Ppl at my job always assume that I don’t have any children 😅 y’all my son is 5 I’m not new to the game\n",
      "Calculated: 1 Actual: 0\n",
      "<======>\n",
      "@RT_com Watch any day we will see BREAKING NEWS: Japan to join NATO 🤣🙄 that's how insane this growth of NATO has become\n",
      "Calculated: 1 Actual: 0\n",
      "<======>\n",
      "@syglhs CRIMINAL RECORD😨\n",
      "Calculated: 0 Actual: 1\n",
      "<======>\n",
      "I m feeling so exhausted 👻\n",
      "Calculated: 1 Actual: 0\n",
      "<======>\n",
      "@MacNCheeasy Consuming can only get you so far 🫡\n",
      "Calculated: 1 Actual: 0\n",
      "<======>\n",
      "@mh2kofficial @AsdaServiceTeam 🤣🤣 that’s why I said it and you joining the party in a bit?\n",
      "Calculated: 1 Actual: 0\n",
      "<======>\n",
      "nah that goal was pure sex 💀\n",
      "Calculated: 0 Actual: 1\n",
      "<======>\n",
      "@OliLondonTV Lots of these men transition after they have a baby with their partners.\n",
      " 🤔\n",
      "Calculated: 1 Actual: 0\n",
      "<======>\n",
      "@Blacks2015145 @TheDemocrats Fair play, you got me; I didn't twig it was a parody account 👍\n",
      "Calculated: 0 Actual: 1\n",
      "<======>\n",
      "🌹hello, we've been back into studying Japanese again lately so we might just start tweeting in Japanese a bit here and there so if we do just click on the translate tweet button and it'll show you what we're saying lol\n",
      "Calculated: 0 Actual: 1\n",
      "<======>\n",
      "@feyisayoEF It’s like you’re blind 😂🤣🤣…. Do these teams look like they’re on the same level?? It feel like I’m watching Arsenal vs Nottingham forest\n",
      "Calculated: 1 Actual: 0\n",
      "<======>\n",
      "Last day of hell week at work 🥲\n",
      "Calculated: 1 Actual: 0\n",
      "<======>\n",
      "@RetiredManHule Trident is not a weakling either, they'll fight till the end, they might pull up a spoiler 😂\n",
      "Calculated: 0 Actual: 1\n",
      "<======>\n",
      "Fighting for the doubles point 😤 https://t.co/EZqKVZ0C4N\n",
      "Calculated: 0 Actual: 1\n",
      "<======>\n",
      "@znnboba @znn_edelweiss We don’t even get 10%. They know we can’t survive 10% of their gingering 😭\n",
      "Calculated: 1 Actual: 0\n",
      "<======>\n",
      "@spritzerfolf They wanna go back to eastern Russia 😂\n",
      "Calculated: 1 Actual: 0\n",
      "<======>\n",
      "@matrixreloaded_ I wish I could’ve gone to that class😔\n",
      "Calculated: 1 Actual: 0\n",
      "<======>\n",
      "from 2017 until now, Sungjae still can't tell the difference between It's Okay and Way Back Home 😅🤣\n",
      "Calculated: 0 Actual: 1\n",
      "<======>\n"
     ]
    }
   ],
   "source": [
    "for x in np.where(test_df['Calculated'] != test_df['Actual'])[0]:\n",
    "    print(test_df._get_value(x, 'Text'))\n",
    "    print(\"Calculated:\", test_df._get_value(x, 'Calculated'), \"Actual:\", test_df._get_value(x, 'Actual'))\n",
    "    print(\"<======>\")"
   ]
  },
  {
   "cell_type": "markdown",
   "id": "4db5d69f-65d5-4a13-88b0-340da4635182",
   "metadata": {},
   "source": [
    "Examples of positive and negatively labeled tweets - regardless of their actual classification."
   ]
  },
  {
   "cell_type": "code",
   "execution_count": 120,
   "id": "ceae5f37-940a-48b0-b5b5-1f886bb7defa",
   "metadata": {},
   "outputs": [
    {
     "data": {
      "text/plain": [
       "'Hope our EnVi readers are having a #HappyEaster this year! 🐣💝🐰 https://t.co/bxSsc1yAib'"
      ]
     },
     "execution_count": 120,
     "metadata": {},
     "output_type": "execute_result"
    }
   ],
   "source": [
    "labeled_positive_test_tweets[randint(0, len(labeled_positive_test_tweets))]"
   ]
  },
  {
   "cell_type": "code",
   "execution_count": 121,
   "id": "2c2691b9-94e5-471c-b38a-608dd59f1178",
   "metadata": {},
   "outputs": [
    {
     "data": {
      "text/plain": [
       "'I\\'m still curious why there hasn\\'t been an official video for Dreamcatcher \"red sun\" until now? 🤔\\n.\\nIn fact, even with poor video quality, there were quite a lot of viewers, 60K viewers 🤔 https://t.co/YhZAdjo2WX'"
      ]
     },
     "execution_count": 121,
     "metadata": {},
     "output_type": "execute_result"
    }
   ],
   "source": [
    "labeled_negative_test_tweets[randint(0, len(labeled_negative_test_tweets))]"
   ]
  },
  {
   "cell_type": "markdown",
   "id": "9c4335b3-0327-4ea1-86f0-3222cd82b568",
   "metadata": {
    "jp-MarkdownHeadingCollapsed": true
   },
   "source": [
    "## Testing Just Emojis"
   ]
  },
  {
   "cell_type": "code",
   "execution_count": 67,
   "id": "99208033-5f73-4395-b44d-a7167549a2c6",
   "metadata": {},
   "outputs": [
    {
     "data": {
      "text/plain": [
       "(688, 172, 688, 172)"
      ]
     },
     "execution_count": 67,
     "metadata": {},
     "output_type": "execute_result"
    }
   ],
   "source": [
    "X_train, X_test, y_train, y_test = train_test_split(labeled['Text'],\n",
    "                                                    labeled['Sentiment'],\n",
    "                                                    test_size=0.2,\n",
    "                                                    random_state=123)\n",
    "\n",
    "len(X_train), len(X_test), len(y_train), len(y_test)"
   ]
  },
  {
   "cell_type": "code",
   "execution_count": 77,
   "id": "15764520-e6a3-4d45-b1d9-162ef32a46a3",
   "metadata": {},
   "outputs": [],
   "source": [
    "import re\n",
    "import string\n",
    "import emoji\n",
    "\n",
    "from nltk.corpus import stopwords\n",
    "from nltk.stem import PorterStemmer\n",
    "from nltk.tokenize import TweetTokenizer\n",
    "\n",
    "def process_tweet(tweet):\n",
    "    \"\"\"Input: tweet a string containing a tweet\n",
    "    Return:\n",
    "    tweets_clean: a list of words containing the processed tweet\n",
    "    \"\"\"\n",
    "    # remove stock market tickers like $GE\n",
    "    tweet = re.sub(r'\\$\\w*', '', tweet)\n",
    "    \n",
    "    # remove retweet text \"RT\"\n",
    "    tweet = re.sub(r'^RT[\\s]+', '', tweet)\n",
    "    \n",
    "    # remove hyperlinks\n",
    "    tweet = re.sub(r'https?:\\/\\/.*[\\r\\n]*', '', tweet)\n",
    "    \n",
    "    # remove hashtags\n",
    "    tweet = re.sub(r'#', '', tweet)\n",
    "    \n",
    "    # Instantiate stemmer class\n",
    "    stemmer = PorterStemmer()\n",
    "    \n",
    "    # Create stopwords list\n",
    "    stopwords_english = stopwords.words('english')\n",
    "    \n",
    "    # Tokenize tweets\n",
    "    tokenizer = TweetTokenizer(preserve_case=False, strip_handles=True, reduce_len=True)\n",
    "    \n",
    "    # Tokenize the tweets\n",
    "    tweet_tokens = tokenizer.tokenize(tweet)\n",
    "    \n",
    "    tweets_clean = []\n",
    "    for word in tweet_tokens:\n",
    "        if emoji.is_emoji(word):\n",
    "            tweets_clean.append(word)\n",
    "    return tweets_clean"
   ]
  },
  {
   "cell_type": "code",
   "execution_count": 69,
   "id": "8a66375a-816c-4d15-93b3-365aecafd96e",
   "metadata": {},
   "outputs": [],
   "source": [
    "## Let's create a dictionary of words and their frequencies\n",
    "def count_tweets(result, tweets, ys):\n",
    "    \"\"\"Input:\n",
    "    result: a dictionary that will contain the frequency of each pair (word, label)\n",
    "    tweets: a list of tweets\n",
    "    ys: an m x 1 array with the sentiment label of each tweet (either 0 or 1)\n",
    "    \"\"\"\n",
    "    # iterate through each tweet and its label\n",
    "    for y, tweet in zip(ys, tweets):\n",
    "        # process the tweet to get the words in the form of a list\n",
    "        for word in process_tweet(tweet):\n",
    "            # increment the word count for the pair (word, label)\n",
    "            pair = (word, y)\n",
    "            if pair in result:\n",
    "                result[pair] += 1\n",
    "            else:\n",
    "                result[pair] = 1\n",
    "    return result"
   ]
  },
  {
   "cell_type": "code",
   "execution_count": 70,
   "id": "d9718b40-5f3f-4dcf-af26-44361503138c",
   "metadata": {},
   "outputs": [],
   "source": [
    "freqs = count_tweets({}, X_train, y_train)"
   ]
  },
  {
   "cell_type": "code",
   "execution_count": 71,
   "id": "f7e70d5c-9220-461c-81d7-0b3e2bdc4e66",
   "metadata": {},
   "outputs": [],
   "source": [
    "## Let's create a function to extract the features from the tweets\n",
    "\n",
    "def naive_bayes(freqs, X_train, y_train):\n",
    "    \"\"\"Train a Naive Bayes classifier on twitter data.\n",
    "\n",
    "    Args:\n",
    "        freqs (dict): dictionary of (word, label): frequency pairs\n",
    "        X_train (list): list of tweets\n",
    "        y_train (list): list of tweets\n",
    "        \n",
    "    returns:\n",
    "    logprior (float): log prior\n",
    "    loglikelihood (dict): dictionary of (word, label): log likelihood pairs\n",
    "    \"\"\"\n",
    "    ## Compare the code here with Jurafsky and Martin's pseudocode\n",
    "    \n",
    "    loglikelihood = {}\n",
    "    logprior = 0\n",
    "    \n",
    "    vocab = set([pair[0] for pair in freqs.keys()]) # words in the vocabulary\n",
    "    V = len(vocab) # number of unique words in the vocabulary\n",
    "    \n",
    "    # Calculate N_pos and N_neg tweets (number of positive and negative tweets)\n",
    "    N_pos, N_neg = 0, 0 # number of positive and negative tweets\n",
    "    \n",
    "    # Calculate the number of positive and negative tweets\n",
    "    for pair in freqs.keys():\n",
    "        # positive tweets\n",
    "        if pair[1] > 0:\n",
    "            N_pos += freqs[pair]\n",
    "        # negative tweets\n",
    "        else:\n",
    "            N_neg += freqs[pair]\n",
    "    \n",
    "    # Documents = total number of tweets\n",
    "    D = len(X_train)\n",
    "    \n",
    "    # Calculate # of positive and negative documents\n",
    "    D_pos = np.sum(y_train)\n",
    "    D_neg = D - D_pos\n",
    "    \n",
    "    logprior = np.log(D_pos) - np.log(D_neg)\n",
    "    \n",
    "    for word in vocab:\n",
    "        \n",
    "        freq_pos = freqs.get((word, 1.0), 0)\n",
    "        freq_neg = freqs.get((word, 0.0), 0)\n",
    "        \n",
    "        p_w_pos = (freq_pos + 1) / (N_pos + V)\n",
    "        p_w_neg = (freq_neg + 1) / (N_neg + V)\n",
    "        \n",
    "        loglikelihood[word] = np.log(p_w_pos / p_w_neg)\n",
    "    \n",
    "    return logprior, loglikelihood"
   ]
  },
  {
   "cell_type": "code",
   "execution_count": 72,
   "id": "71f41dfc-28d4-406a-9064-212800db6791",
   "metadata": {},
   "outputs": [],
   "source": [
    "logprior, loglikelihood = naive_bayes(freqs, X_train, y_train)"
   ]
  },
  {
   "cell_type": "code",
   "execution_count": 73,
   "id": "fb5f49fc-6fd8-4953-8d1e-728debf780f9",
   "metadata": {},
   "outputs": [],
   "source": [
    "def predict_naive_bayes(tweet, logprior, loglikelihood):\n",
    "    \"\"\"Input:\n",
    "    tweet: a string\n",
    "    logprior: a number\n",
    "    loglikelihood: a dictionary of words mapping to numbers\n",
    "    Output:\n",
    "    p: the sum of all the logliklihoods of each word in the tweet (if found in the dictionary) + logprior (a number)\n",
    "    \"\"\"\n",
    "    word_l = process_tweet(tweet)\n",
    "    \n",
    "    p = 0\n",
    "    p += logprior\n",
    "    \n",
    "    for word in word_l:\n",
    "        if word in loglikelihood:\n",
    "            p += loglikelihood[word]\n",
    "    \n",
    "    return p"
   ]
  },
  {
   "cell_type": "code",
   "execution_count": 79,
   "id": "09b34e43-44f0-42b2-b22b-9d4db44a3100",
   "metadata": {},
   "outputs": [],
   "source": [
    "labeled_positive_test_tweets = []\n",
    "labeled_negative_test_tweets = []\n",
    "test_df = pd.DataFrame(columns = ['Text', 'Calculated', 'Actual'])"
   ]
  },
  {
   "cell_type": "code",
   "execution_count": 80,
   "id": "3478d8ad-3709-4e3c-a22f-d68987cf6b1b",
   "metadata": {},
   "outputs": [],
   "source": [
    "def test_naive_bayes(X_test, y_test, logprior, loglikelihood, labeled_positive_test_tweets,\n",
    "    labeled_negative_test_tweets):\n",
    "    \"\"\"Input:\n",
    "    X_test: a list of tweets\n",
    "    y_test: (m, 1) array with the sentiment label of each tweet (either 0 or 1)\n",
    "    logprior: a number\n",
    "    loglikelihood: a dictionary of words mapping to numbers\n",
    "    Output:\n",
    "    accuracy: (# of tweets classified correctly) / (total # of tweets)\n",
    "    \"\"\"\n",
    "    \n",
    "    # Let's score the accuracy of our model\n",
    "    accuracy = 0\n",
    "    \n",
    "    # Our predictions will be stored in y_hat\n",
    "    y_hat = []\n",
    "    index1 = 0\n",
    "    for tweet in X_test:\n",
    "        index = np.where(labeled['Text'] == tweet)[0][0]\n",
    "        #print(index)\n",
    "        actual = labeled._get_value(index, 'Sentiment')\n",
    "        #print(index, actual)\n",
    "        if predict_naive_bayes(tweet, logprior, loglikelihood) > 0:\n",
    "            y_hat.append(1)\n",
    "            labeled_positive_test_tweets.append(tweet)\n",
    "            test_df.loc[index1] = pd.Series({'Text':tweet, 'Calculated':1, 'Actual':actual})\n",
    "        else:\n",
    "            y_hat.append(0)\n",
    "            labeled_negative_test_tweets.append(tweet)\n",
    "            test_df.loc[index1] = pd.Series({'Text':tweet, 'Calculated':0, 'Actual':actual})\n",
    "        index1 = index1 + 1\n",
    "    \n",
    "    # error is the average of the absolute values of the differences between y_hat and y_test\n",
    "    error = np.mean(np.abs(y_hat - y_test))\n",
    "    \n",
    "    accuracy = 1 - error\n",
    "    \n",
    "    return accuracy"
   ]
  },
  {
   "cell_type": "code",
   "execution_count": 81,
   "id": "7dbe3b74-7b86-496f-a681-194438999ce6",
   "metadata": {},
   "outputs": [
    {
     "name": "stdout",
     "output_type": "stream",
     "text": [
      "Naive Bayes accuracy = 0.837209\n"
     ]
    }
   ],
   "source": [
    "print(\"Naive Bayes accuracy = %f\" % test_naive_bayes(X_test, y_test, logprior, loglikelihood, labeled_positive_test_tweets,\n",
    "    labeled_negative_test_tweets))"
   ]
  },
  {
   "cell_type": "markdown",
   "id": "2c7480d1-1568-40fd-9a6a-0967726d0b6f",
   "metadata": {},
   "source": [
    "All of the misclassified tweets:"
   ]
  },
  {
   "cell_type": "code",
   "execution_count": 82,
   "id": "122f32f0-9a22-4c39-8c53-af298666e6ad",
   "metadata": {},
   "outputs": [
    {
     "name": "stdout",
     "output_type": "stream",
     "text": [
      "this is cute 🤣🤣. text me? https://t.co/rF7cRc5QHV\n",
      "Calculated: 0 Actual: 1\n",
      "<======>\n",
      "@heispurehell 😂😭 it ain't settling when you run across some magic hands though 🥵 some fingers I miss 🤧\n",
      "Calculated: 0 Actual: 1\n",
      "<======>\n",
      "This is what inspires me to go out and get ppl to register to vote. Ain’t no way I’m going to listen to 4 years of trump having a platform to call a grievance press conference every damn day. #Imsickofallthisshit🙄😡\n",
      "Calculated: 0 Actual: 1\n",
      "<======>\n",
      "@JonJacks_ @shannonsharpeee Though his reaction was overboard I get it. Still, as a parent of either child it would have been very difficult not to crack tf up…😂\n",
      "Calculated: 0 Actual: 1\n",
      "<======>\n",
      "begins singing cupids chokehold will this make you forgive me @tenebricosam 😨😨\n",
      "Calculated: 0 Actual: 1\n",
      "<======>\n",
      "@realbbymula Put that 💩 💵 🤣🤣😂straight in my pocket\n",
      "Calculated: 0 Actual: 1\n",
      "<======>\n",
      "To those who say ‘well where is the proof Jesus was in the tomb, and where is proof he was nailed to a cross??’\n",
      "Here you go:\n",
      "The artifacts- the cloak He was wrapped in and a stake through His feet on the cross…\n",
      "This is in the Museum of Rome. The same Romans who crucified Him. 🤔 https://t.co/oEITbt1C6N\n",
      "Calculated: 0 Actual: 1\n",
      "<======>\n",
      "@lvcilvr @Luffycore_ ONG ILL BUY THE BESTEST GUFT EVER AND IMA HAVE THE CUTEST RED DRESS ILL SLAY 😝😝\n",
      "Calculated: 0 Actual: 1\n",
      "<======>\n",
      "Gabriel Jesus is actually working on Liverpool fans😂😂😂😂\n",
      "Calculated: 0 Actual: 1\n",
      "<======>\n",
      "OHIO STATE!!! 💪💪💪\n",
      "\n",
      "How bout them Buckeyes @richeisen 😂😂😂\n",
      "\n",
      "And a big f*** you to @ColinCowherd who constantly bad about OSU 🖕🖕🖕\n",
      "\n",
      "#Buckeyes \n",
      "#NFL \n",
      "#NFLDraft \n",
      "#NFLDraft2023\n",
      "Calculated: 0 Actual: 1\n",
      "<======>\n",
      "@HailEternal Lmao the irony behind that post. The fact that the rainbow represents peace in the Bible and they’re reflecting that peace is insane 💀\n",
      "Calculated: 0 Actual: 1\n",
      "<======>\n",
      "ive never been this active before 😨\n",
      "Calculated: 0 Actual: 1\n",
      "<======>\n",
      "@CelticEnded2iar I love how they refer to each other as Bears 🐻 🤣🤣\n",
      "Calculated: 0 Actual: 1\n",
      "<======>\n",
      "@Enraged_Indian Lol..this joker thinks Doval is worried about this guy ! 🤣🤣🫡\n",
      "Calculated: 1 Actual: 0\n",
      "<======>\n",
      "OMG he picks weeds and cooks them to reduce his food bill.\n",
      "\n",
      "😨 https://t.co/dUxew9Ttk1\n",
      "Calculated: 0 Actual: 1\n",
      "<======>\n",
      "@syglhs CRIMINAL RECORD😨\n",
      "Calculated: 0 Actual: 1\n",
      "<======>\n",
      "I m feeling so exhausted 👻\n",
      "Calculated: 1 Actual: 0\n",
      "<======>\n",
      "@MacNCheeasy Consuming can only get you so far 🫡\n",
      "Calculated: 1 Actual: 0\n",
      "<======>\n",
      "i may actually be crazy 😇\n",
      "Calculated: 1 Actual: 0\n",
      "<======>\n",
      "@shonshoning i don't have glasses 🥲 i had a few years ago but idk where they are rn and my prescription has DEFINITELY changed so there's no use to find them anyways\n",
      "Calculated: 1 Actual: 0\n",
      "<======>\n",
      "@daphodoodle OMG OK BUT SOPHIA WAS SO QUICK WITH HER COMBOS IT WAS LIKE SHE SAW THE COMBOS BEFORE THEY EVEN HAPPENED !!!!😨\n",
      "Calculated: 0 Actual: 1\n",
      "<======>\n",
      "nah that goal was pure sex 💀\n",
      "Calculated: 0 Actual: 1\n",
      "<======>\n",
      "Last day of hell week at work 🥲\n",
      "Calculated: 1 Actual: 0\n",
      "<======>\n",
      "@RetiredManHule Trident is not a weakling either, they'll fight till the end, they might pull up a spoiler 😂\n",
      "Calculated: 0 Actual: 1\n",
      "<======>\n",
      "Fighting for the doubles point 😤 https://t.co/EZqKVZ0C4N\n",
      "Calculated: 0 Actual: 1\n",
      "<======>\n",
      "@matrixreloaded_ I wish I could’ve gone to that class😔\n",
      "Calculated: 1 Actual: 0\n",
      "<======>\n",
      "💌🤨💋😋😄\n",
      "Age beyond meeting manager shoulder.\n",
      "  #种子   #野外   #种子 https://t.co/wzMtHnlOwy\n",
      "Calculated: 0 Actual: 1\n",
      "<======>\n",
      "from 2017 until now, Sungjae still can't tell the difference between It's Okay and Way Back Home 😅🤣\n",
      "Calculated: 0 Actual: 1\n",
      "<======>\n"
     ]
    }
   ],
   "source": [
    "for x in np.where(test_df['Calculated'] != test_df['Actual'])[0]:\n",
    "    print(test_df._get_value(x, 'Text'))\n",
    "    print(\"Calculated:\", test_df._get_value(x, 'Calculated'), \"Actual:\", test_df._get_value(x, 'Actual'))\n",
    "    print(\"<======>\")"
   ]
  },
  {
   "cell_type": "markdown",
   "id": "d0cd2a24-f50d-4b36-9a27-7068d9280dba",
   "metadata": {},
   "source": [
    "Examples of positive and negatively labeled tweets - regardless of their classification"
   ]
  },
  {
   "cell_type": "code",
   "execution_count": 78,
   "id": "de50db9a-fcf0-4ce3-824b-918126c25d93",
   "metadata": {},
   "outputs": [
    {
     "data": {
      "text/plain": [
       "'@lorelei1950 Good late morning Lorelei! Just stopping by to say hi! Cleaning day right!🦉 🌧🙏🐇🥚✨️🌟'"
      ]
     },
     "execution_count": 78,
     "metadata": {},
     "output_type": "execute_result"
    }
   ],
   "source": [
    "labeled_positive_test_tweets[randint(0, len(labeled_positive_test_tweets))]"
   ]
  },
  {
   "cell_type": "code",
   "execution_count": 83,
   "id": "09bfcfff-c53f-462b-bb73-62249d74f9a5",
   "metadata": {},
   "outputs": [
    {
     "data": {
      "text/plain": [
       "'@SpecsSol Ofc they let it happen if it’s frank is that a question 🤣🤣🤣'"
      ]
     },
     "execution_count": 83,
     "metadata": {},
     "output_type": "execute_result"
    }
   ],
   "source": [
    "labeled_negative_test_tweets[randint(0, len(labeled_negative_test_tweets))]"
   ]
  },
  {
   "cell_type": "markdown",
   "id": "8d21e80f-ac21-4169-8c27-76aaaf78a74e",
   "metadata": {},
   "source": [
    "## Conclusion"
   ]
  },
  {
   "cell_type": "markdown",
   "id": "13572c88-39d2-47fd-8fc1-867a9dd35753",
   "metadata": {},
   "source": [
    "In conclusion, it is really interesting that the trial only using emojis had the highest accuracy. It's also interesting to see that the accuracy increases the more emojis I add to the input. This model also does struggle with sarcasm and slang, as some words such as 'slay' and 'fire' (both the word and emoji) are used in a positive way when they are, by definition, negative terms. I would like to do more testing in the future with a larger (> 1000 tweets) dataset!  "
   ]
  },
  {
   "cell_type": "code",
   "execution_count": null,
   "id": "06d7d977-522e-4b5e-b13f-62a4866bf25e",
   "metadata": {},
   "outputs": [],
   "source": []
  }
 ],
 "metadata": {
  "kernelspec": {
   "display_name": "Python 3 (ipykernel)",
   "language": "python",
   "name": "python3"
  },
  "language_info": {
   "codemirror_mode": {
    "name": "ipython",
    "version": 3
   },
   "file_extension": ".py",
   "mimetype": "text/x-python",
   "name": "python",
   "nbconvert_exporter": "python",
   "pygments_lexer": "ipython3",
   "version": "3.11.6"
  }
 },
 "nbformat": 4,
 "nbformat_minor": 5
}
